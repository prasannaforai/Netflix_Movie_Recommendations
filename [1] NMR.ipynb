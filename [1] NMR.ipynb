{
 "cells": [
  {
   "cell_type": "markdown",
   "metadata": {},
   "source": [
    "# Netflix Movie Recommendations\n",
    "<img src='https://i.imgur.com/lM3fDZR.jpg' width='800' height='400'>"
   ]
  },
  {
   "cell_type": "markdown",
   "metadata": {},
   "source": [
    "<h1>1. Business Problem </h1>"
   ]
  },
  {
   "cell_type": "markdown",
   "metadata": {},
   "source": [
    "<h2> 1.1 Problem Description </h2>\n",
    "\n",
    "<p>\n",
    "Netflix is all about connecting people to the movies they love. To help customers find those movies, they developed world-class movie recommendation system: CinematchSM. Its job is to predict whether someone will enjoy a movie based on how much they liked or disliked other movies. Netflix use those predictions to make personal movie recommendations based on each customer’s unique tastes. And while <b>Cinematch</b> is doing pretty well, it can always be made better.\n",
    "</p>\n",
    "<p>Now there are a lot of interesting alternative approaches to how Cinematch works that netflix haven’t tried. Some are described in the literature, some aren’t. We’re curious whether any of these can beat Cinematch by making better predictions. Because, frankly, if there is a much better approach it could make a big difference to our customers and our business.</p>\n",
    "\n",
    "Credits: [Netflix Prize](https://www.netflixprize.com/rules.html)"
   ]
  },
  {
   "cell_type": "markdown",
   "metadata": {},
   "source": [
    "<h2> 1.2 Problem Statement </h2>\n",
    "\n",
    "<p>\n",
    "Netflix provided a lot of anonymous rating data, and a prediction accuracy bar that is 10% better than what Cinematch can do on the same <br>\n",
    "training data set. (Accuracy is a measurement of how closely predicted ratings of movies match subsequent actual ratings.) \n",
    "</p>"
   ]
  },
  {
   "cell_type": "markdown",
   "metadata": {},
   "source": [
    "<h2> 1.3 Sources </h2>\n",
    "\n",
    "\n",
    "* [Netflix Prize](https://www.netflixprize.com/rules.html)\n",
    "* [Kaggle](https://www.kaggle.com/netflix-inc/netflix-prize-data)\n",
    "* [Netflix blog](https://medium.com/netflix-techblog/netflix-recommendations-beyond-the-5-stars-part-1-55838468f429)\n",
    "* [surprise library](http://surpriselib.com/)\n",
    "* [Factor in the Neighbors: Scalable and Accurate Collaborative Filtering](http://courses.ischool.berkeley.edu/i290-dm/s11/SECURE/a1-koren.pdf)\n",
    "* [Video : SVD Decomposition](https://www.youtube.com/watch?v=P5mlg91as1c)\n"
   ]
  },
  {
   "cell_type": "markdown",
   "metadata": {},
   "source": [
    "<h2>1.4 Real world/Business Objectives and constraints  </h2>\n",
    "\n",
    "__Objectives:__\n",
    "* Predict the rating that a user would give to a movie that he ahs not yet rated.\n",
    "* Minimize the difference between predicted and actual rating (RMSE and MAPE)\n",
    "\n",
    "__Constraints:__\n",
    "* Some form of interpretability."
   ]
  },
  {
   "cell_type": "markdown",
   "metadata": {},
   "source": [
    "<h1> 2. Machine Learning Problem </h1>"
   ]
  },
  {
   "cell_type": "markdown",
   "metadata": {},
   "source": [
    "<h2>2.1 Data </h2>"
   ]
  },
  {
   "cell_type": "markdown",
   "metadata": {},
   "source": [
    "<h3> 2.1.1 Data Overview </h3>"
   ]
  },
  {
   "cell_type": "markdown",
   "metadata": {},
   "source": [
    "* Get the data from [Kaggle](https://www.kaggle.com/netflix-inc/netflix-prize-data/data)\n",
    "* Data files : \n",
    "    - combined_data_1.txt\n",
    "    - combined_data_2.txt\n",
    "    - combined_data_3.txt\n",
    "    - combined_data_4.txt\n",
    "    - movie_titles.csv\n",
    " \n",
    " \n",
    "* The first line of each file `combined_data_1.txt, combined_data_2.txt, combined_data_3.txt, combined_data_4.txt`<br>\n",
    "contains the movie id followed by a colon.\n",
    "* Each subsequent line in the file corresponds to a rating from a customer and its date in the following format:\n",
    "* `CustomerID, Rating, Date`\n",
    "* MovieID ranges from 1 to 17770 sequentially.\n",
    "* CustomerID ranges from 1 to 2649429, with gaps. There are 480189 users.\n",
    "* Ratings are on a five star (integral) scale from 1 to 5.\n",
    "* Dates have the format YYYY-MM-DD."
   ]
  },
  {
   "cell_type": "markdown",
   "metadata": {},
   "source": [
    "<h3> 2.1.2 Example Data point </h3>"
   ]
  },
  {
   "cell_type": "markdown",
   "metadata": {},
   "source": [
    "<pre>\n",
    "1:\n",
    "1488844,3,2005-09-06\n",
    "822109,5,2005-05-13\n",
    "885013,4,2005-10-19\n",
    "30878,4,2005-12-26\n",
    "823519,3,2004-05-03\n",
    "893988,3,2005-11-17\n",
    "124105,4,2004-08-05\n",
    "1248029,3,2004-04-22\n",
    "1842128,4,2004-05-09\n",
    "2238063,3,2005-05-11\n",
    "1503895,4,2005-05-19\n",
    "2207774,5,2005-06-06\n",
    "2590061,3,2004-08-12\n",
    "2442,3,2004-04-14\n",
    "543865,4,2004-05-28\n",
    "1209119,4,2004-03-23\n",
    "\n",
    "</pre>"
   ]
  },
  {
   "cell_type": "markdown",
   "metadata": {},
   "source": [
    "<h2>2.2 Mapping the real world problem to a ML Problem </h2>"
   ]
  },
  {
   "cell_type": "markdown",
   "metadata": {},
   "source": [
    "<h3> 2.2.1 Type of Machine Learning Problem </h3>\n",
    "\n",
    "* For a given movie and user, we need to predict how much the user would rate the movie. \n",
    "* The given problem is a Recommendation problem. \n",
    "* It can also seen as a Regression problem."
   ]
  },
  {
   "cell_type": "markdown",
   "metadata": {},
   "source": [
    "<h3> 2.2.2 Performance metric </h3>\n",
    "\n",
    "* [Mean Absolute Percentage Error](https://en.wikipedia.org/wiki/Mean_absolute_percentage_error)\n",
    "* [Root Mean Square Error](https://en.wikipedia.org/wiki/Root-mean-square_deviation)\n",
    "\n"
   ]
  },
  {
   "cell_type": "markdown",
   "metadata": {},
   "source": [
    "<h3> 2.2.3 Machine Learning Objective and Constraints </h3>\n",
    "\n",
    "* Minimize RMSE.\n",
    "* Try to provide some interpretability."
   ]
  },
  {
   "cell_type": "code",
   "execution_count": 2,
   "metadata": {},
   "outputs": [],
   "source": [
    "from datetime import datetime\n",
    "import os\n",
    "import pandas as pd\n",
    "import numpy as np\n",
    "import matplotlib\n",
    "import matplotlib.pyplot as plt\n",
    "import seaborn as sns\n",
    "from scipy import sparse\n",
    "from scipy.sparse import csr_matrix\n",
    "from sklearn.metrics.pairwise import cosine_similarity\n",
    "import gc\n",
    "\n",
    "matplotlib.use('nbagg')\n",
    "sns.set_style('whitegrid')\n",
    "\n",
    "import warnings\n",
    "warnings.filterwarnings('ignore')"
   ]
  },
  {
   "cell_type": "markdown",
   "metadata": {},
   "source": [
    "<h1> 3. Exploratory Data Analysis </h1>"
   ]
  },
  {
   "cell_type": "markdown",
   "metadata": {},
   "source": [
    "<h2> 3.1 Preprocessing</h2> "
   ]
  },
  {
   "cell_type": "markdown",
   "metadata": {},
   "source": [
    "<h3>3.1.1 Merging whole data to required format</h3>\n",
    "\n",
    "* Below code converts the merges all the files into format : `user_id(u_i), movie_id(m_j), rating(r_ij)`"
   ]
  },
  {
   "cell_type": "code",
   "execution_count": 2,
   "metadata": {},
   "outputs": [
    {
     "name": "stdout",
     "output_type": "stream",
     "text": [
      "\n",
      "processed in 0:00:00.001007 \n"
     ]
    }
   ],
   "source": [
    "start = datetime.now()\n",
    "folder_name = 'combined_data/'\n",
    "\n",
    "if not os.path.isfile('data.csv'):\n",
    "    \n",
    "    with open('data.csv', 'w') as f:\n",
    "        #write the columns in the first line\n",
    "        columns = ['movie_id', 'user_id', 'rating', 'date']\n",
    "        f.write(\",\".join(columns))\n",
    "        f.write(\"\\n\")\n",
    "        \n",
    "        #iterate over the .txt files\n",
    "        for filename in os.listdir('combined_data/'):\n",
    "            print(f\"Reading data from {filename}\")\n",
    "            with open(folder_name+filename, 'r') as file:\n",
    "                for line in file:\n",
    "                    line = line.strip()  #strip out newline characters\n",
    "                    if line.endswith(':'):\n",
    "                        #stores the movie_id \n",
    "                        movie_id = line.replace(\":\", \"\")\n",
    "                    else:\n",
    "                        # split the line into user_id, rating, date\n",
    "                        row = [x for x in line.split(',')]\n",
    "                        row.insert(0, movie_id) #insert movie_id at the start\n",
    "                        f.write(','.join(row)) #join the whole row into a string seperated by ','\n",
    "                        f.write('\\n') #write a newline char else the next row will be writen in the same line\n",
    "                print(\"Done.....\\n\")\n",
    "            \n",
    "print()\n",
    "print(f\"processed in {(datetime.now() - start)} \")"
   ]
  },
  {
   "cell_type": "markdown",
   "metadata": {},
   "source": [
    "__LOADING THE DATA__"
   ]
  },
  {
   "cell_type": "code",
   "execution_count": 3,
   "metadata": {},
   "outputs": [
    {
     "name": "stdout",
     "output_type": "stream",
     "text": [
      "Number of rows in the dataframe : 100480507\n"
     ]
    }
   ],
   "source": [
    "df = pd.read_csv('data.csv')\n",
    "#df.date = pd.to_datetime(df.date)\n",
    "print(f\"Number of rows in the dataframe : {df.shape[0]}\")"
   ]
  },
  {
   "cell_type": "code",
   "execution_count": 4,
   "metadata": {},
   "outputs": [
    {
     "data": {
      "text/html": [
       "<div>\n",
       "<style scoped>\n",
       "    .dataframe tbody tr th:only-of-type {\n",
       "        vertical-align: middle;\n",
       "    }\n",
       "\n",
       "    .dataframe tbody tr th {\n",
       "        vertical-align: top;\n",
       "    }\n",
       "\n",
       "    .dataframe thead th {\n",
       "        text-align: right;\n",
       "    }\n",
       "</style>\n",
       "<table border=\"1\" class=\"dataframe\">\n",
       "  <thead>\n",
       "    <tr style=\"text-align: right;\">\n",
       "      <th></th>\n",
       "      <th>movie_id</th>\n",
       "      <th>user_id</th>\n",
       "      <th>rating</th>\n",
       "      <th>date</th>\n",
       "    </tr>\n",
       "  </thead>\n",
       "  <tbody>\n",
       "    <tr>\n",
       "      <th>0</th>\n",
       "      <td>1</td>\n",
       "      <td>1488844</td>\n",
       "      <td>3</td>\n",
       "      <td>2005-09-06</td>\n",
       "    </tr>\n",
       "    <tr>\n",
       "      <th>1</th>\n",
       "      <td>1</td>\n",
       "      <td>822109</td>\n",
       "      <td>5</td>\n",
       "      <td>2005-05-13</td>\n",
       "    </tr>\n",
       "    <tr>\n",
       "      <th>2</th>\n",
       "      <td>1</td>\n",
       "      <td>885013</td>\n",
       "      <td>4</td>\n",
       "      <td>2005-10-19</td>\n",
       "    </tr>\n",
       "    <tr>\n",
       "      <th>3</th>\n",
       "      <td>1</td>\n",
       "      <td>30878</td>\n",
       "      <td>4</td>\n",
       "      <td>2005-12-26</td>\n",
       "    </tr>\n",
       "    <tr>\n",
       "      <th>4</th>\n",
       "      <td>1</td>\n",
       "      <td>823519</td>\n",
       "      <td>3</td>\n",
       "      <td>2004-05-03</td>\n",
       "    </tr>\n",
       "  </tbody>\n",
       "</table>\n",
       "</div>"
      ],
      "text/plain": [
       "   movie_id  user_id  rating        date\n",
       "0         1  1488844       3  2005-09-06\n",
       "1         1   822109       5  2005-05-13\n",
       "2         1   885013       4  2005-10-19\n",
       "3         1    30878       4  2005-12-26\n",
       "4         1   823519       3  2004-05-03"
      ]
     },
     "execution_count": 4,
     "metadata": {},
     "output_type": "execute_result"
    }
   ],
   "source": [
    "df.head()"
   ]
  },
  {
   "cell_type": "code",
   "execution_count": 5,
   "metadata": {},
   "outputs": [],
   "source": [
    "#convert thr date column to datetime object.\n",
    "df.date = pd.to_datetime(df.date)"
   ]
  },
  {
   "cell_type": "markdown",
   "metadata": {},
   "source": [
    "__SORT THE DATA BY TIME__"
   ]
  },
  {
   "cell_type": "code",
   "execution_count": 6,
   "metadata": {},
   "outputs": [
    {
     "data": {
      "text/html": [
       "<div>\n",
       "<style scoped>\n",
       "    .dataframe tbody tr th:only-of-type {\n",
       "        vertical-align: middle;\n",
       "    }\n",
       "\n",
       "    .dataframe tbody tr th {\n",
       "        vertical-align: top;\n",
       "    }\n",
       "\n",
       "    .dataframe thead th {\n",
       "        text-align: right;\n",
       "    }\n",
       "</style>\n",
       "<table border=\"1\" class=\"dataframe\">\n",
       "  <thead>\n",
       "    <tr style=\"text-align: right;\">\n",
       "      <th></th>\n",
       "      <th>movie_id</th>\n",
       "      <th>user_id</th>\n",
       "      <th>rating</th>\n",
       "      <th>date</th>\n",
       "    </tr>\n",
       "  </thead>\n",
       "  <tbody>\n",
       "    <tr>\n",
       "      <th>56431994</th>\n",
       "      <td>10341</td>\n",
       "      <td>510180</td>\n",
       "      <td>4</td>\n",
       "      <td>1999-11-11</td>\n",
       "    </tr>\n",
       "    <tr>\n",
       "      <th>9056171</th>\n",
       "      <td>1798</td>\n",
       "      <td>510180</td>\n",
       "      <td>5</td>\n",
       "      <td>1999-11-11</td>\n",
       "    </tr>\n",
       "    <tr>\n",
       "      <th>58698779</th>\n",
       "      <td>10774</td>\n",
       "      <td>510180</td>\n",
       "      <td>3</td>\n",
       "      <td>1999-11-11</td>\n",
       "    </tr>\n",
       "    <tr>\n",
       "      <th>48101611</th>\n",
       "      <td>8651</td>\n",
       "      <td>510180</td>\n",
       "      <td>2</td>\n",
       "      <td>1999-11-11</td>\n",
       "    </tr>\n",
       "    <tr>\n",
       "      <th>81893208</th>\n",
       "      <td>14660</td>\n",
       "      <td>510180</td>\n",
       "      <td>2</td>\n",
       "      <td>1999-11-11</td>\n",
       "    </tr>\n",
       "  </tbody>\n",
       "</table>\n",
       "</div>"
      ],
      "text/plain": [
       "          movie_id  user_id  rating       date\n",
       "56431994     10341   510180       4 1999-11-11\n",
       "9056171       1798   510180       5 1999-11-11\n",
       "58698779     10774   510180       3 1999-11-11\n",
       "48101611      8651   510180       2 1999-11-11\n",
       "81893208     14660   510180       2 1999-11-11"
      ]
     },
     "execution_count": 6,
     "metadata": {},
     "output_type": "execute_result"
    }
   ],
   "source": [
    "df.sort_values('date', inplace=True)\n",
    "df.head()"
   ]
  },
  {
   "cell_type": "markdown",
   "metadata": {},
   "source": [
    "__CHECKING FOR NAN VALUES__"
   ]
  },
  {
   "cell_type": "code",
   "execution_count": 7,
   "metadata": {},
   "outputs": [
    {
     "name": "stdout",
     "output_type": "stream",
     "text": [
      "No of Nan values in our dataframe : 0\n"
     ]
    }
   ],
   "source": [
    "# just to make sure that all Nan containing rows are deleted..\n",
    "print(F\"No of Nan values in our dataframe : {df.isnull().any().sum()}\")"
   ]
  },
  {
   "cell_type": "markdown",
   "metadata": {},
   "source": [
    "__CHECKING FOR DUPLICATES__"
   ]
  },
  {
   "cell_type": "code",
   "execution_count": 8,
   "metadata": {},
   "outputs": [
    {
     "name": "stdout",
     "output_type": "stream",
     "text": [
      "Number of duplicated in the dataframe : 0\n"
     ]
    }
   ],
   "source": [
    "dups = df.duplicated(['movie_id', 'user_id', 'rating'])\n",
    "print(f\"Number of duplicated in the dataframe : {dups.sum()}\")"
   ]
  },
  {
   "cell_type": "markdown",
   "metadata": {},
   "source": [
    "<h2>3.2 Basic Statistics on total data (#Ratings, #Users, and #Movies)</h2>"
   ]
  },
  {
   "cell_type": "code",
   "execution_count": 9,
   "metadata": {},
   "outputs": [
    {
     "name": "stdout",
     "output_type": "stream",
     "text": [
      "Total no of ratings : 100480507\n",
      "Total No of Users   : 480189\n",
      "Total No of movies  : 17770\n"
     ]
    }
   ],
   "source": [
    "num_users = df.user_id.unique().shape[0]\n",
    "num_movies = df.movie_id.unique().shape[0]\n",
    "\n",
    "print(f\"Total no of ratings : {df.shape[0]}\")\n",
    "print(f\"Total No of Users   : {num_users}\")\n",
    "print(f\"Total No of movies  : {num_movies}\")"
   ]
  },
  {
   "cell_type": "markdown",
   "metadata": {},
   "source": [
    "<h3>3.2.1 Spliting data into Train, CV and Test(60:20:20) </h3>"
   ]
  },
  {
   "cell_type": "code",
   "execution_count": null,
   "metadata": {},
   "outputs": [],
   "source": [
    "if not os.path.isfile('train_data.csv'):\n",
    "    # create the dataframe and store it in the disk for offline purposes..\n",
    "    df.iloc[:int(df.shape[0]*0.60)].to_csv(\"train_data.csv\", index=False)\n",
    "    \n",
    "if not os.path.isfile('cv_data.csv'):\n",
    "    # create the dataframe and store it in the disk for offline purposes..\n",
    "    df.iloc[int(df.shape[0]*0.60) : int(df.shape[0]*0.80)].to_csv(\"cv_data.csv\", index=False)\n",
    "\n",
    "if not os.path.isfile('test_data.csv'):\n",
    "    # create the dataframe and store it in the disk for offline purposes..\n",
    "    df.iloc[int(df.shape[0]*0.80):].to_csv(\"test_data.csv\", index=False)"
   ]
  },
  {
   "cell_type": "markdown",
   "metadata": {},
   "source": [
    "<h3>3.2.2 Basic Statistics after split </h3>"
   ]
  },
  {
   "cell_type": "markdown",
   "metadata": {},
   "source": [
    "__TRAIN DATA__"
   ]
  },
  {
   "cell_type": "code",
   "execution_count": 3,
   "metadata": {},
   "outputs": [
    {
     "name": "stdout",
     "output_type": "stream",
     "text": [
      "Total no of ratings : 60288304\n",
      "Total No of Users   : 328767\n",
      "Total No of movies  : 16464\n"
     ]
    }
   ],
   "source": [
    "train_data = pd.read_csv('train_data.csv')\n",
    "\n",
    "print(f\"Total no of ratings : {train_data.shape[0]}\")\n",
    "print(f\"Total No of Users   : {train_data.user_id.unique().shape[0]}\")\n",
    "print(f\"Total No of movies  : {train_data.movie_id.unique().shape[0]}\")"
   ]
  },
  {
   "cell_type": "markdown",
   "metadata": {},
   "source": [
    "__CV DATA__"
   ]
  },
  {
   "cell_type": "code",
   "execution_count": 4,
   "metadata": {},
   "outputs": [
    {
     "name": "stdout",
     "output_type": "stream",
     "text": [
      "Total no of ratings : 20096101\n",
      "Total No of Users   : 327155\n",
      "Total No of movies  : 17386\n"
     ]
    }
   ],
   "source": [
    "cv_data = pd.read_csv('cv_data.csv')\n",
    "\n",
    "print(f\"Total no of ratings : {cv_data.shape[0]}\")\n",
    "print(f\"Total No of Users   : {cv_data.user_id.unique().shape[0]}\")\n",
    "print(f\"Total No of movies  : {cv_data.movie_id.unique().shape[0]}\")"
   ]
  },
  {
   "cell_type": "markdown",
   "metadata": {},
   "source": [
    "__TEST DATA__"
   ]
  },
  {
   "cell_type": "code",
   "execution_count": 5,
   "metadata": {},
   "outputs": [
    {
     "name": "stdout",
     "output_type": "stream",
     "text": [
      "Total no of ratings : 20096102\n",
      "Total No of Users   : 349312\n",
      "Total No of movies  : 17757\n"
     ]
    }
   ],
   "source": [
    "test_data = pd.read_csv('test_data.csv')\n",
    "\n",
    "print(f\"Total no of ratings : {test_data.shape[0]}\")\n",
    "print(f\"Total No of Users   : {test_data.user_id.unique().shape[0]}\")\n",
    "print(f\"Total No of movies  : {test_data.movie_id.unique().shape[0]}\")"
   ]
  },
  {
   "cell_type": "markdown",
   "metadata": {},
   "source": [
    "## 3.3 EDA on Train Data"
   ]
  },
  {
   "cell_type": "code",
   "execution_count": 6,
   "metadata": {},
   "outputs": [],
   "source": [
    "# method to make y-axis more readable\n",
    "def human(num, units = 'M'):\n",
    "    units = units.lower()\n",
    "    num = float(num)\n",
    "    if units == 'k':\n",
    "        return str(num/10**3) + \" K\"\n",
    "    elif units == 'm':\n",
    "        return str(num/10**6) + \" M\"\n",
    "    elif units == 'b':\n",
    "        return str(num/10**9) +  \" B\""
   ]
  },
  {
   "cell_type": "code",
   "execution_count": 8,
   "metadata": {},
   "outputs": [
    {
     "data": {
      "image/png": "[encoded data removed]",
      "text/plain": [
       "<Figure size 600x400 with 1 Axes>"
      ]
     },
     "metadata": {
      "needs_background": "light"
     },
     "output_type": "display_data"
    }
   ],
   "source": [
    "fig, ax1 = plt.subplots(1, 1)\n",
    "fig.dpi = 100\n",
    "sns.countplot(train_data.rating)\n",
    "ax1.set_title('Distribution of ratings in train data', fontdict={'fontsize':15})\n",
    "ax1.set_yticklabels([human(x, \"M\") for x in ax1.get_yticks()])\n",
    "plt.show()"
   ]
  },
  {
   "cell_type": "markdown",
   "metadata": {},
   "source": [
    "> * Out of the 60M ratings, only 2.5M are 1 rated and 6M are 2 rated."
   ]
  },
  {
   "cell_type": "code",
   "execution_count": 9,
   "metadata": {},
   "outputs": [],
   "source": [
    "train_data.date = pd.to_datetime(train_data.date)\n",
    "train_data['day'] = train_data.date.dt.weekday_name"
   ]
  },
  {
   "cell_type": "markdown",
   "metadata": {},
   "source": [
    "<h3> 3.3.1 Number of Ratings per Month </h3>"
   ]
  },
  {
   "cell_type": "code",
   "execution_count": 10,
   "metadata": {},
   "outputs": [
    {
     "data": {
      "image/png": "[encoded data removed]",
      "text/plain": [
       "<Figure size 800x500 with 1 Axes>"
      ]
     },
     "metadata": {
      "needs_background": "light"
     },
     "output_type": "display_data"
    }
   ],
   "source": [
    "plt.figure(dpi=100, figsize=(8, 5))\n",
    "ax = train_data.resample(\"m\", on='date')['rating'].count().plot()\n",
    "ax.set_title('No of ratings per month (Training data)')\n",
    "ax.set_xlabel('Month')\n",
    "ax.set_ylabel('No of ratings per month')\n",
    "ax.set_yticklabels([human(item, \"M\") for item in ax.get_yticks()])\n",
    "plt.show()"
   ]
  },
  {
   "cell_type": "markdown",
   "metadata": {},
   "source": [
    "> * The number of ratings are on a huge rise since 2003."
   ]
  },
  {
   "cell_type": "markdown",
   "metadata": {},
   "source": [
    "<h3> 3.3.2 Analysis on the Ratings given by user </h3>"
   ]
  },
  {
   "cell_type": "code",
   "execution_count": 12,
   "metadata": {},
   "outputs": [],
   "source": [
    "num_rated_movies_per_user = train_data.groupby('user_id')['rating'].count().sort_values(ascending=False)"
   ]
  },
  {
   "cell_type": "code",
   "execution_count": 13,
   "metadata": {},
   "outputs": [
    {
     "data": {
      "text/plain": [
       "user_id\n",
       "305344     15998\n",
       "2439493    14733\n",
       "387418     14124\n",
       "1639792     9748\n",
       "1932594     7398\n",
       "Name: rating, dtype: int64"
      ]
     },
     "execution_count": 13,
     "metadata": {},
     "output_type": "execute_result"
    }
   ],
   "source": [
    "num_rated_movies_per_user.head()"
   ]
  },
  {
   "cell_type": "code",
   "execution_count": 14,
   "metadata": {},
   "outputs": [
    {
     "data": {
      "text/plain": [
       "Text(0.5, 0, 'Num of ratings per user')"
      ]
     },
     "execution_count": 14,
     "metadata": {},
     "output_type": "execute_result"
    },
    {
     "data": {
      "image/png": "[encoded data removed]",
      "text/plain": [
       "<Figure size 1500x700 with 2 Axes>"
      ]
     },
     "metadata": {
      "needs_background": "light"
     },
     "output_type": "display_data"
    }
   ],
   "source": [
    "fig, (ax1, ax2) = plt.subplots(1, 2, dpi=100, figsize=(15, 7))\n",
    "\n",
    "sns.kdeplot(num_rated_movies_per_user, ax=ax1, shade=True)\n",
    "ax1.set_title('PDF')\n",
    "ax1.set_xlabel('Num of ratings per user')\n",
    "\n",
    "sns.kdeplot(num_rated_movies_per_user, ax=ax2, shade=True, cumulative=True)\n",
    "ax2.set_title('CDF')\n",
    "ax2.set_xlabel('Num of ratings per user')"
   ]
  },
  {
   "cell_type": "markdown",
   "metadata": {},
   "source": [
    "> * There are a small number of users who have rated high number of movies.<br>\n",
    "> * 99% of the ratings are from top 2000 users."
   ]
  },
  {
   "cell_type": "code",
   "execution_count": 15,
   "metadata": {},
   "outputs": [
    {
     "data": {
      "text/plain": [
       "count    328767.000000\n",
       "mean        183.376993\n",
       "std         276.787794\n",
       "min           1.000000\n",
       "25%          26.000000\n",
       "50%          81.000000\n",
       "75%         226.000000\n",
       "max       15998.000000\n",
       "Name: rating, dtype: float64"
      ]
     },
     "execution_count": 15,
     "metadata": {},
     "output_type": "execute_result"
    }
   ],
   "source": [
    "num_rated_movies_per_user.describe()"
   ]
  },
  {
   "cell_type": "markdown",
   "metadata": {},
   "source": [
    "> * A user has rated 183 movies on average.<br>\n",
    "> * 25% of users have atleast rated 26 movies."
   ]
  },
  {
   "cell_type": "code",
   "execution_count": 16,
   "metadata": {},
   "outputs": [],
   "source": [
    "quantiles = num_rated_movies_per_user.quantile(np.arange(0,1.01,0.01), interpolation='higher')"
   ]
  },
  {
   "cell_type": "code",
   "execution_count": 17,
   "metadata": {},
   "outputs": [
    {
     "data": {
      "image/png": "[encoded data removed]",
      "text/plain": [
       "<Figure size 600x400 with 1 Axes>"
      ]
     },
     "metadata": {
      "needs_background": "light"
     },
     "output_type": "display_data"
    }
   ],
   "source": [
    "plt.figure(dpi=100)\n",
    "plt.title(\"Quantiles and their Values\")\n",
    "quantiles.plot()\n",
    "# quantiles with 0.05 difference\n",
    "plt.scatter(x=quantiles.index[::5], y=quantiles.values[::5], c='orange', label=\"quantiles with 0.05 intervals\")\n",
    "# quantiles with 0.25 difference\n",
    "plt.scatter(x=quantiles.index[::25], y=quantiles.values[::25], c='m', label = \"quantiles with 0.25 intervals\")\n",
    "plt.ylabel('No of ratings by user')\n",
    "plt.xlabel('Value at the quantile')\n",
    "plt.legend(loc='best')\n",
    "\n",
    "# annotate the 25th, 50th, 75th and 100th percentile values....\n",
    "for x,y in zip(quantiles.index[::25], quantiles[::25]):\n",
    "    plt.annotate(s=\"({} , {})\".format(x,y), xy=(x,y), xytext=(x-0.05, y+500)\n",
    "                ,fontweight='bold')\n",
    "\n",
    "plt.show()"
   ]
  },
  {
   "cell_type": "code",
   "execution_count": 18,
   "metadata": {},
   "outputs": [
    {
     "data": {
      "text/plain": [
       "0.00        1\n",
       "0.05        4\n",
       "0.10        9\n",
       "0.15       15\n",
       "0.20       20\n",
       "0.25       26\n",
       "0.30       33\n",
       "0.35       42\n",
       "0.40       53\n",
       "0.45       66\n",
       "0.50       81\n",
       "0.55      100\n",
       "0.60      122\n",
       "0.65      149\n",
       "0.70      183\n",
       "0.75      226\n",
       "0.80      284\n",
       "0.85      364\n",
       "0.90      486\n",
       "0.95      707\n",
       "1.00    15998\n",
       "Name: rating, dtype: int64"
      ]
     },
     "execution_count": 18,
     "metadata": {},
     "output_type": "execute_result"
    }
   ],
   "source": [
    "quantiles[::5]"
   ]
  },
  {
   "cell_type": "code",
   "execution_count": 19,
   "metadata": {},
   "outputs": [
    {
     "name": "stdout",
     "output_type": "stream",
     "text": [
      "Num of ratings in at last 5 percentile : 16464\n"
     ]
    }
   ],
   "source": [
    "print(f\"Num of ratings in at last 5 percentile : {(num_rated_movies_per_user >= 707).sum()}\")"
   ]
  },
  {
   "cell_type": "markdown",
   "metadata": {},
   "source": [
    "<h3> 3.3.3 Analysis of ratings of a movie given by a user </h3>"
   ]
  },
  {
   "cell_type": "code",
   "execution_count": 20,
   "metadata": {},
   "outputs": [],
   "source": [
    "num_ratings_per_movie = train_data.groupby(by='movie_id')['rating'].count().sort_values(ascending=False)"
   ]
  },
  {
   "cell_type": "code",
   "execution_count": 21,
   "metadata": {},
   "outputs": [
    {
     "data": {
      "text/plain": [
       "movie_id\n",
       "15124    135103\n",
       "5317     128127\n",
       "1905     125718\n",
       "6287     114695\n",
       "14313    108095\n",
       "Name: rating, dtype: int64"
      ]
     },
     "execution_count": 21,
     "metadata": {},
     "output_type": "execute_result"
    }
   ],
   "source": [
    "num_ratings_per_movie.head()"
   ]
  },
  {
   "cell_type": "code",
   "execution_count": 22,
   "metadata": {},
   "outputs": [
    {
     "data": {
      "image/png": "[encoded data removed]",
      "text/plain": [
       "<Figure size 600x400 with 1 Axes>"
      ]
     },
     "metadata": {
      "needs_background": "light"
     },
     "output_type": "display_data"
    }
   ],
   "source": [
    "fig = plt.figure(dpi=100)\n",
    "plt.plot(num_ratings_per_movie.values)\n",
    "plt.title('# RATINGS per Movie')\n",
    "plt.xlabel('Movie')\n",
    "plt.ylabel('No of Users who rated a movie')\n",
    "plt.show()"
   ]
  },
  {
   "cell_type": "markdown",
   "metadata": {},
   "source": [
    "> * It is very skewed.. just like number of ratings given by a user.<br>\n",
    "> * There are some movies (which are very popular) which are rated by huge number of users.<br>\n",
    "> * But most of the movies(like 90%) got some hundereds of ratings.<br>"
   ]
  },
  {
   "cell_type": "markdown",
   "metadata": {},
   "source": [
    "<h3> 3.3.4 Number of ratings on each day of the week</h3>"
   ]
  },
  {
   "cell_type": "code",
   "execution_count": 23,
   "metadata": {},
   "outputs": [
    {
     "data": {
      "image/png": "[encoded data removed]",
      "text/plain": [
       "<Figure size 600x400 with 1 Axes>"
      ]
     },
     "metadata": {
      "needs_background": "light"
     },
     "output_type": "display_data"
    }
   ],
   "source": [
    "fig, ax1 = plt.subplots(1, 1, dpi=100)\n",
    "sns.countplot(x='day', data=train_data, ax=ax1)\n",
    "plt.title('No of ratings on a day')\n",
    "plt.ylabel('Total no of ratings')\n",
    "plt.xlabel('')\n",
    "ax1.set_yticklabels([human(item, \"M\") for item in ax1.get_yticks()])\n",
    "plt.show()"
   ]
  },
  {
   "cell_type": "markdown",
   "metadata": {},
   "source": [
    "> * The number of ratings take a dip on weekends probably due to watching!"
   ]
  },
  {
   "cell_type": "code",
   "execution_count": 24,
   "metadata": {},
   "outputs": [
    {
     "data": {
      "image/png": "[encoded data removed]",
      "text/plain": [
       "<Figure size 600x400 with 1 Axes>"
      ]
     },
     "metadata": {
      "needs_background": "light"
     },
     "output_type": "display_data"
    }
   ],
   "source": [
    "fig = plt.figure(dpi=100)\n",
    "sns.boxplot(y='rating', x='day', data=train_data)\n",
    "plt.show()"
   ]
  },
  {
   "cell_type": "markdown",
   "metadata": {},
   "source": [
    "> * The average rating on any day is 3.5"
   ]
  },
  {
   "cell_type": "markdown",
   "metadata": {},
   "source": [
    "<h3> 3.3.5 Creating sparse matrix from train_data </h3>\n",
    "\n",
    "* It'll be very convinient to store the data in a matrix. The matrix contains users as rows and movies as columns.\n",
    "* Each cell represents the rating of that movie column rated by the user in that row.\n",
    "* As the number of movies rated by a user are very small, We can store the train_data in a sparse format. This saves a lot of space."
   ]
  },
  {
   "cell_type": "code",
   "execution_count": 27,
   "metadata": {},
   "outputs": [
    {
     "name": "stdout",
     "output_type": "stream",
     "text": [
      "Loading from Disk...\n",
      "\n",
      "Done..\n",
      "processed in 0:00:02.738511\n"
     ]
    }
   ],
   "source": [
    "start = datetime.now()\n",
    "\n",
    "if not os.path.isfile(\"train_sparse_matrix.npz\"):\n",
    "    train_sparse_matrix = csr_matrix((train_data.rating.values, (train_data.user_id.values, train_data.movie_id.values)))\n",
    "    sparse.save_npz(\"train_sparse_matrix.npz\", train_sparse_matrix)\n",
    "else:\n",
    "    print('Loading from Disk...\\n')\n",
    "    train_sparse_matrix = sparse.load_npz(\"train_sparse_matrix.npz\")\n",
    "    print('Done..')\n",
    "\n",
    "print(f'processed in {datetime.now() - start}')"
   ]
  },
  {
   "cell_type": "markdown",
   "metadata": {},
   "source": [
    "__SPARSITY OF THE SPARSE MATRIX__"
   ]
  },
  {
   "cell_type": "code",
   "execution_count": 28,
   "metadata": {},
   "outputs": [
    {
     "name": "stdout",
     "output_type": "stream",
     "text": [
      "shape of the sparse matrix : (2649430, 17771)\n",
      "sparsity of the sparse_matrix :  99.87%\n"
     ]
    }
   ],
   "source": [
    "print(f\"shape of the sparse matrix : {train_sparse_matrix.get_shape()}\")\n",
    "\n",
    "u, m = train_sparse_matrix.get_shape()\n",
    "\n",
    "print(f\"sparsity of the sparse_matrix : {(1 - train_sparse_matrix.count_nonzero()/(u*m)) * 100 : .2f}%\")"
   ]
  },
  {
   "cell_type": "markdown",
   "metadata": {},
   "source": [
    "__CREATE SPARSE MATRICES FOR CV, TEST__"
   ]
  },
  {
   "cell_type": "code",
   "execution_count": 29,
   "metadata": {},
   "outputs": [
    {
     "name": "stdout",
     "output_type": "stream",
     "text": [
      "Loading from Disk...\n",
      "Loading from Disk...\n",
      "processed in 0:00:02.145575\n"
     ]
    }
   ],
   "source": [
    "start = datetime.now()\n",
    "\n",
    "if not os.path.isfile('cv_sparse_matrix.npz'):\n",
    "    cv_sparse_matrix = csr_matrix((cv_data.rating.values, (cv_data.user_id.values, cv_data.movie_id.values)))\n",
    "    sparse.save_npz(\"cv_sparse_matrix.npz\", cv_sparse_matrix)\n",
    "else:\n",
    "    print('Loading from Disk...')\n",
    "    cv_sparse_matrix = sparse.load_npz(\"cv_sparse_matrix.npz\")\n",
    "    \n",
    "if not os.path.isfile('test_sparse_matrix.npz'):\n",
    "    test_sparse_matrix = csr_matrix((test_data.rating.values, (test_data.user_id.values, test_data.movie_id.values)))\n",
    "    sparse.save_npz(\"test_sparse_matrix.npz\", test_sparse_matrix)\n",
    "else:\n",
    "    print('Loading from Disk...')\n",
    "    test_sparse_matrix = sparse.load_npz('test_sparse_matrix.npz')\n",
    "\n",
    "print(f'processed in {datetime.now() - start}')"
   ]
  },
  {
   "cell_type": "markdown",
   "metadata": {},
   "source": [
    "<h3>3.3.6 Finding Averages</h3>"
   ]
  },
  {
   "cell_type": "markdown",
   "metadata": {},
   "source": [
    "__GLOBAL AVERAGE OF ALL MOVIE RATINGS__"
   ]
  },
  {
   "cell_type": "code",
   "execution_count": 30,
   "metadata": {},
   "outputs": [
    {
     "name": "stdout",
     "output_type": "stream",
     "text": [
      "Global avg of all movie ratings :  3.552\n"
     ]
    }
   ],
   "source": [
    "train_averages = {}\n",
    "global_avg = train_sparse_matrix.sum() / train_sparse_matrix.count_nonzero()\n",
    "train_averages['global'] = global_avg\n",
    "print(f\"Global avg of all movie ratings : { global_avg : .3f}\")"
   ]
  },
  {
   "cell_type": "markdown",
   "metadata": {},
   "source": [
    "__AVERAGE RATING OF USER, MOVIE__"
   ]
  },
  {
   "cell_type": "code",
   "execution_count": 31,
   "metadata": {},
   "outputs": [],
   "source": [
    "def get_avg_ratings(sparse_matrix, of='user'):\n",
    "    \n",
    "    # if users avg over rows, else cols\n",
    "    ax = 1 if of == 'user' else 0\n",
    "    sum_ratings = sparse_matrix.sum(axis=ax).A1\n",
    "    num_ratings = (sparse_matrix != 0).sum(axis=ax).A1\n",
    "    \n",
    "    avg_ratings = sum_ratings / num_ratings #avg\n",
    "    u, m = sparse_matrix.shape\n",
    "    avg_ratings = {i : sum_ratings[i] / num_ratings[i] \n",
    "            for i in range(len(num_ratings)) \n",
    "            if num_ratings[i] != 0}\n",
    "    #avg_ratings[np.isnan(avg_ratings)] = 0  #nan to zero\n",
    "    #avg_ratings = dict(zip(range(len(avg_ratings)), avg_ratings))\n",
    "    \n",
    "    return avg_ratings"
   ]
  },
  {
   "cell_type": "code",
   "execution_count": 32,
   "metadata": {},
   "outputs": [
    {
     "name": "stdout",
     "output_type": "stream",
     "text": [
      "average rating given by user 10 :  3.384615\n"
     ]
    }
   ],
   "source": [
    "train_averages['user'] = get_avg_ratings(train_sparse_matrix, 'user')\n",
    "print(f\"average rating given by user 10 : {train_averages['user'][10] : 3f}\")"
   ]
  },
  {
   "cell_type": "code",
   "execution_count": 33,
   "metadata": {},
   "outputs": [
    {
     "name": "stdout",
     "output_type": "stream",
     "text": [
      "average rating of movie 15 :  3.266055\n"
     ]
    }
   ],
   "source": [
    "train_averages['movie'] = get_avg_ratings(train_sparse_matrix, 'movie')\n",
    "print(f\"average rating of movie 15 : {train_averages['movie'][15] : 3f}\")"
   ]
  },
  {
   "cell_type": "markdown",
   "metadata": {},
   "source": [
    "<h3> 3.3.7 Distributions of Avg Ratings of Users & Movies in Train Data </h3>"
   ]
  },
  {
   "cell_type": "code",
   "execution_count": 34,
   "metadata": {},
   "outputs": [
    {
     "data": {
      "image/png": "[encoded data removed]",
      "text/plain": [
       "<Figure size 1500x700 with 2 Axes>"
      ]
     },
     "metadata": {
      "needs_background": "light"
     },
     "output_type": "display_data"
    }
   ],
   "source": [
    "fig, (ax1, ax2) = plt.subplots(nrows=1, ncols=2, dpi=100, figsize=(15, 7))\n",
    "fig.suptitle('Avg Ratings of User and per Movie', fontsize=15)\n",
    "\n",
    "ax1.set_title('Users-Avg-Ratings')\n",
    "ax1.set_xlabel(\"RATING\")\n",
    "# get the list of average user ratings from the averages dictionary..\n",
    "user_averages = list(train_averages['user'].values())\n",
    "sns.distplot(user_averages, ax=ax1, hist=False, \n",
    "             kde_kws=dict(cumulative=True), label='CDF')\n",
    "sns.distplot(user_averages, ax=ax1, hist=False,label='PDF')\n",
    "\n",
    "ax2.set_title('Movies-Avg-Rating')\n",
    "ax2.set_xlabel(\"RATING\")\n",
    "# get the list of movie_average_ratings from the dictionary..\n",
    "movie_averages = list(train_averages['movie'].values())\n",
    "sns.distplot(movie_averages, ax=ax2, hist=False, \n",
    "             kde_kws=dict(cumulative=True), label='CDF')\n",
    "sns.distplot(movie_averages, ax=ax2, hist=False, label='PDF')\n",
    "plt.show()"
   ]
  },
  {
   "cell_type": "markdown",
   "metadata": {},
   "source": [
    "### 3.3.8 <font color='red'>Cold Start Problem</font>"
   ]
  },
  {
   "cell_type": "markdown",
   "metadata": {},
   "source": [
    "__USERS__"
   ]
  },
  {
   "cell_type": "code",
   "execution_count": 37,
   "metadata": {},
   "outputs": [
    {
     "name": "stdout",
     "output_type": "stream",
     "text": [
      "Total number of users                   : 480189\n",
      "Total number of users in train_data     : 328767\n",
      "Total number of new users(not in train) : 151422(31.53%)\n"
     ]
    }
   ],
   "source": [
    "num_users_train = train_data.user_id.unique().shape[0]\n",
    "new_users = num_users - num_users_train\n",
    "print(f\"Total number of users                   : {num_users}\")\n",
    "print(f\"Total number of users in train_data     : {num_users_train}\")\n",
    "print(f\"Total number of new users(not in train) : {new_users}({new_users*100/num_users :.2f}%)\")"
   ]
  },
  {
   "cell_type": "markdown",
   "metadata": {},
   "source": [
    "> * There are 31.5% new users in cv/test who aren't present in train.\n",
    "> * This is because of the splits and the number is quite high.\n",
    "> * We need to handle 151422 new users who didn't appear in train_data."
   ]
  },
  {
   "cell_type": "markdown",
   "metadata": {},
   "source": [
    "__MOVIES__"
   ]
  },
  {
   "cell_type": "code",
   "execution_count": 38,
   "metadata": {},
   "outputs": [
    {
     "name": "stdout",
     "output_type": "stream",
     "text": [
      "Total number of movies                   : 17770\n",
      "Total number of movies in train_data     : 16464\n",
      "Total number of new movies(not in train) : 1306(7.35%)\n"
     ]
    }
   ],
   "source": [
    "num_movies_train = train_data.movie_id.unique().shape[0]\n",
    "new_movies = num_movies - num_movies_train\n",
    "print(f\"Total number of movies                   : {num_movies}\")\n",
    "print(f\"Total number of movies in train_data     : {num_movies_train}\")\n",
    "print(f\"Total number of new movies(not in train) : {new_movies}({new_movies*100/num_movies :.2f}%)\")"
   ]
  },
  {
   "cell_type": "markdown",
   "metadata": {},
   "source": [
    "> * We need to handle 1306 movies that haven't appeared in the train_data."
   ]
  },
  {
   "cell_type": "markdown",
   "metadata": {},
   "source": [
    "<h2> 3.4 Computing Similarity matrices </h2>"
   ]
  },
  {
   "cell_type": "markdown",
   "metadata": {},
   "source": [
    "<h3> 3.4.1 Computing User-User Similarity matrix </h3>"
   ]
  },
  {
   "cell_type": "markdown",
   "metadata": {},
   "source": [
    "* We have __405,041 users__ with us in training set. Each users is represented by a 17K dim sparse vector\n",
    "\n",
    "* Calculating User User Similarity_Matrix is __not very easy__(_unless you have huge Computing Power and lots of time_)<br>\n",
    "because of number of users being large.\n",
    "\n",
    "* You can try if you want to. Your system could crash or the program stops with **Memory Error**.\n",
    "\n",
    "* It takes roughly __8.88 sec__ for computing simlilar users for __one user__.\n",
    "\n",
    "* ${ 405041 \\times 8.88 = 3596764.08  \\sec } =  59946.068 \\min = 999.101133333 \\text{ hours} = 41.6292 \\text{ days}...$\n",
    "\n",
    "* Even if we run on 4 cores parallelly (a typical system now a days), It will still take almost __10 and 1/2__ days.\n",
    "    \n",
    "__SVD__\n",
    "\n",
    "* The train data was reduced to 500 dim using SVD\n",
    "\n",
    "* It takes almost __12.18 sec__ for computing simlilar users for __one user__.\n",
    "    \n",
    "* We have __405041 users__ with us in training set.\n",
    "\n",
    "\n",
    "* ${ 405041 \\times 12.18 = 4933399.38 \\sec } =  82223.323 \\min = 1370.388716667 \\text{ hours} = 57.0995 \\text{ days}...$\n",
    "\n",
    "* Even we run on 4 cores parallelly (a typical system now a days), It will still take almost __14 to 15__ days.\n"
   ]
  },
  {
   "cell_type": "markdown",
   "metadata": {},
   "source": [
    "<font color='red'>__WHY DID THIS HAPPEN?__</font>\n",
    "\n",
    "* The time required for computing the similarity in case of SVD, because of the __dense__ representation of the vector.<br>\n",
    "whereas the original 17K dim vector was a __sparse__ one, so only cells with values are considered this reduced computation time.\n",
    "\n",
    "<font color='GREEN'>__THEN HOW DO WE COMPUTE THE SIMILARITY?__</font>\n",
    "\n",
    "* An alternative way is to compute the user similarity for a user whenever required (ie,. __Run Time__)\n",
    "\n",
    "* We'll maintain a boolean vector which stores whether the similarity is computed for a user.<br>\n",
    "and a dictionary for storing the computed similarities.\n",
    "    - If a user isn't found in the dict, we'll compute similarities to get (say top 1000) most similar users and add them to dict.\n",
    "    - If the user is already found in the dict, we'll just retreive the similarities.\n",
    "    \n",
    "*  __key    :__ _userid_ <br>\n",
    "   __value  :__ _Again a dictionary(sub-dict)_ <br>\n",
    "   **Sub-dict**<br>\n",
    "   __key    :__ _Similar User_<br>\n",
    "   __value  :__ _Similarity Value_ <br>\n",
    "   \n",
    "* Example : \n",
    "<pre>{20: {233  : 0.2,\n",
    "           1056 : 0.19}}</pre>             "
   ]
  },
  {
   "cell_type": "markdown",
   "metadata": {},
   "source": [
    "<h3> 3.4.2 Computing Movie-Movie Similarity matrix </h3>"
   ]
  },
  {
   "cell_type": "code",
   "execution_count": 39,
   "metadata": {},
   "outputs": [
    {
     "name": "stdout",
     "output_type": "stream",
     "text": [
      "Loading from Disk...\n",
      "processed in 0:00:56.148319\n"
     ]
    }
   ],
   "source": [
    "start = datetime.now()\n",
    "if not os.path.isfile('movie_similarities.npz'):\n",
    "    mov_sim_sparse = cosine_similarity(X=train_sparse_matrix.T, dense_output=False)\n",
    "    print(\"Done..\")\n",
    "    # store this sparse matrix in disk before using it. For future purposes.\n",
    "    sparse.save_npz(\"movie_similarities.npz\", mov_sim_sparse)\n",
    "else:\n",
    "    print('Loading from Disk...')\n",
    "    mov_sim_sparse = sparse.load_npz('movie_similarities.npz')\n",
    "print(f\"processed in {datetime.now() - start}\")"
   ]
  },
  {
   "cell_type": "code",
   "execution_count": 40,
   "metadata": {},
   "outputs": [
    {
     "name": "stdout",
     "output_type": "stream",
     "text": [
      "shape of the similarity matrix : (17771, 17771)\n"
     ]
    }
   ],
   "source": [
    "print(f\"shape of the similarity matrix : {mov_sim_sparse.shape}\")"
   ]
  },
  {
   "cell_type": "markdown",
   "metadata": {},
   "source": [
    "> * Above we a sparse matrix in which each row stores 17K similarities.\n",
    "> * We'll only store the top similar movies and discard the rest\n"
   ]
  },
  {
   "cell_type": "code",
   "execution_count": 41,
   "metadata": {},
   "outputs": [],
   "source": [
    "movie_ids = np.unique(mov_sim_sparse.nonzero()[1])"
   ]
  },
  {
   "cell_type": "markdown",
   "metadata": {},
   "source": [
    "__STORING IN A DICT__"
   ]
  },
  {
   "cell_type": "code",
   "execution_count": 42,
   "metadata": {},
   "outputs": [
    {
     "name": "stdout",
     "output_type": "stream",
     "text": [
      "processed in 0:00:24.535044\n"
     ]
    }
   ],
   "source": [
    "start = datetime.now()\n",
    "\n",
    "similar_movies_dict = {}\n",
    "\n",
    "for movie in movie_ids:\n",
    "    similar_movies_dict[movie] = mov_sim_sparse[movie].toarray().ravel().argsort()[::-1][1 : 101]\n",
    "\n",
    "print(f\"processed in {datetime.now() - start}\")"
   ]
  },
  {
   "cell_type": "code",
   "execution_count": 43,
   "metadata": {},
   "outputs": [
    {
     "name": "stdout",
     "output_type": "stream",
     "text": [
      "Top 10 movies of movie_id 15 : [ 8013 16528  3755 12049  8279 13105  5927  4424  9071  4549]\n"
     ]
    }
   ],
   "source": [
    "print(f\"Top 10 movies of movie_id 15 : {similar_movies_dict[15][:10]}\")"
   ]
  },
  {
   "cell_type": "markdown",
   "metadata": {},
   "source": [
    "<h3> 3.4.3 Finding most similar movies using similarity matrix </h3>\n",
    "\n",
    "* Let's see if the similarity of movies works as expected!!!"
   ]
  },
  {
   "cell_type": "code",
   "execution_count": 44,
   "metadata": {},
   "outputs": [
    {
     "data": {
      "text/html": [
       "<div>\n",
       "<style scoped>\n",
       "    .dataframe tbody tr th:only-of-type {\n",
       "        vertical-align: middle;\n",
       "    }\n",
       "\n",
       "    .dataframe tbody tr th {\n",
       "        vertical-align: top;\n",
       "    }\n",
       "\n",
       "    .dataframe thead th {\n",
       "        text-align: right;\n",
       "    }\n",
       "</style>\n",
       "<table border=\"1\" class=\"dataframe\">\n",
       "  <thead>\n",
       "    <tr style=\"text-align: right;\">\n",
       "      <th></th>\n",
       "      <th>year_of_release</th>\n",
       "      <th>title</th>\n",
       "    </tr>\n",
       "    <tr>\n",
       "      <th>movie_id</th>\n",
       "      <th></th>\n",
       "      <th></th>\n",
       "    </tr>\n",
       "  </thead>\n",
       "  <tbody>\n",
       "    <tr>\n",
       "      <th>1</th>\n",
       "      <td>2003.0</td>\n",
       "      <td>Dinosaur Planet</td>\n",
       "    </tr>\n",
       "    <tr>\n",
       "      <th>2</th>\n",
       "      <td>2004.0</td>\n",
       "      <td>Isle of Man TT 2004 Review</td>\n",
       "    </tr>\n",
       "    <tr>\n",
       "      <th>3</th>\n",
       "      <td>1997.0</td>\n",
       "      <td>Character</td>\n",
       "    </tr>\n",
       "    <tr>\n",
       "      <th>4</th>\n",
       "      <td>1994.0</td>\n",
       "      <td>Paula Abdul's Get Up &amp; Dance</td>\n",
       "    </tr>\n",
       "    <tr>\n",
       "      <th>5</th>\n",
       "      <td>2004.0</td>\n",
       "      <td>The Rise and Fall of ECW</td>\n",
       "    </tr>\n",
       "  </tbody>\n",
       "</table>\n",
       "</div>"
      ],
      "text/plain": [
       "          year_of_release                         title\n",
       "movie_id                                               \n",
       "1                  2003.0               Dinosaur Planet\n",
       "2                  2004.0    Isle of Man TT 2004 Review\n",
       "3                  1997.0                     Character\n",
       "4                  1994.0  Paula Abdul's Get Up & Dance\n",
       "5                  2004.0      The Rise and Fall of ECW"
      ]
     },
     "execution_count": 44,
     "metadata": {},
     "output_type": "execute_result"
    }
   ],
   "source": [
    "# First Let's load the movie details into soe dataframe..\n",
    "# movie details are in 'netflix/movie_titles.csv'\n",
    "\n",
    "movie_titles = pd.read_csv(\"movie_titles.csv\", sep=',', header = None,\n",
    "                           names=['movie_id', 'year_of_release', 'title'],\n",
    "                           index_col = 'movie_id', encoding = \"ISO-8859-1\")\n",
    "\n",
    "movie_titles.head()"
   ]
  },
  {
   "cell_type": "markdown",
   "metadata": {},
   "source": [
    "__SIMILAR MOVIES__"
   ]
  },
  {
   "cell_type": "code",
   "execution_count": 45,
   "metadata": {},
   "outputs": [
    {
     "name": "stdout",
     "output_type": "stream",
     "text": [
      "\n",
      " Movie             ==> Vampire Journals\n",
      "\n",
      " Year of Release   ==> 1997.0\n",
      "\n",
      " Number of ratings ==> 239 ratings\n",
      "\n",
      " ===================== TOP 10 SIMILAR MOVIES =====================\n"
     ]
    },
    {
     "data": {
      "text/html": [
       "<div>\n",
       "<style scoped>\n",
       "    .dataframe tbody tr th:only-of-type {\n",
       "        vertical-align: middle;\n",
       "    }\n",
       "\n",
       "    .dataframe tbody tr th {\n",
       "        vertical-align: top;\n",
       "    }\n",
       "\n",
       "    .dataframe thead th {\n",
       "        text-align: right;\n",
       "    }\n",
       "</style>\n",
       "<table border=\"1\" class=\"dataframe\">\n",
       "  <thead>\n",
       "    <tr style=\"text-align: right;\">\n",
       "      <th></th>\n",
       "      <th>year_of_release</th>\n",
       "      <th>title</th>\n",
       "    </tr>\n",
       "    <tr>\n",
       "      <th>movie_id</th>\n",
       "      <th></th>\n",
       "      <th></th>\n",
       "    </tr>\n",
       "  </thead>\n",
       "  <tbody>\n",
       "    <tr>\n",
       "      <th>323</th>\n",
       "      <td>1999.0</td>\n",
       "      <td>Modern Vampires</td>\n",
       "    </tr>\n",
       "    <tr>\n",
       "      <th>4044</th>\n",
       "      <td>1998.0</td>\n",
       "      <td>Subspecies 4: Bloodstorm</td>\n",
       "    </tr>\n",
       "    <tr>\n",
       "      <th>1688</th>\n",
       "      <td>1993.0</td>\n",
       "      <td>To Sleep With a Vampire</td>\n",
       "    </tr>\n",
       "    <tr>\n",
       "      <th>1900</th>\n",
       "      <td>1997.0</td>\n",
       "      <td>Club Vampire</td>\n",
       "    </tr>\n",
       "    <tr>\n",
       "      <th>16279</th>\n",
       "      <td>2002.0</td>\n",
       "      <td>Vampires: Los Muertos</td>\n",
       "    </tr>\n",
       "    <tr>\n",
       "      <th>12053</th>\n",
       "      <td>1993.0</td>\n",
       "      <td>Dracula Rising</td>\n",
       "    </tr>\n",
       "    <tr>\n",
       "      <th>13962</th>\n",
       "      <td>2001.0</td>\n",
       "      <td>Dracula: The Dark Prince</td>\n",
       "    </tr>\n",
       "    <tr>\n",
       "      <th>4667</th>\n",
       "      <td>1996.0</td>\n",
       "      <td>Vampirella</td>\n",
       "    </tr>\n",
       "    <tr>\n",
       "      <th>13873</th>\n",
       "      <td>2001.0</td>\n",
       "      <td>The Breed</td>\n",
       "    </tr>\n",
       "    <tr>\n",
       "      <th>7573</th>\n",
       "      <td>2000.0</td>\n",
       "      <td>Kindred: The Embraced: The Complete Vampire Co...</td>\n",
       "    </tr>\n",
       "  </tbody>\n",
       "</table>\n",
       "</div>"
      ],
      "text/plain": [
       "          year_of_release                                              title\n",
       "movie_id                                                                    \n",
       "323                1999.0                                    Modern Vampires\n",
       "4044               1998.0                           Subspecies 4: Bloodstorm\n",
       "1688               1993.0                            To Sleep With a Vampire\n",
       "1900               1997.0                                       Club Vampire\n",
       "16279              2002.0                              Vampires: Los Muertos\n",
       "12053              1993.0                                     Dracula Rising\n",
       "13962              2001.0                           Dracula: The Dark Prince\n",
       "4667               1996.0                                         Vampirella\n",
       "13873              2001.0                                          The Breed\n",
       "7573               2000.0  Kindred: The Embraced: The Complete Vampire Co..."
      ]
     },
     "execution_count": 45,
     "metadata": {},
     "output_type": "execute_result"
    }
   ],
   "source": [
    "movie_id = 67\n",
    "\n",
    "print(f\"\\n Movie             ==> {movie_titles.loc[movie_id].values[1]}\")\n",
    "print(f\"\\n Year of Release   ==> {movie_titles.loc[movie_id].values[0]}\")\n",
    "print(f\"\\n Number of ratings ==> {train_sparse_matrix[:, movie_id].getnnz()} ratings\")\n",
    "print(f\"\\n ===================== TOP 10 SIMILAR MOVIES =====================\")\n",
    "movie_titles.loc[similar_movies_dict[movie_id][:10]]"
   ]
  },
  {
   "cell_type": "code",
   "execution_count": 46,
   "metadata": {},
   "outputs": [
    {
     "data": {
      "image/png": "[encoded data removed]",
      "text/plain": [
       "<Figure size 600x400 with 1 Axes>"
      ]
     },
     "metadata": {
      "needs_background": "light"
     },
     "output_type": "display_data"
    }
   ],
   "source": [
    "movie_similarities = mov_sim_sparse[movie_id].toarray().ravel()\n",
    "movie_sim_idxs = movie_similarities.argsort()[::-1][1:]\n",
    "\n",
    "plt.figure(dpi=100)\n",
    "plt.plot(movie_similarities[movie_sim_idxs], label='All the ratings')\n",
    "plt.plot(movie_similarities[movie_sim_idxs[:100]], label='top 100 similar movies')\n",
    "plt.title(f\"Similar Movies of movie_id : {movie_id}\", fontsize=20)\n",
    "plt.xlabel(\"Movies\", fontsize=15)\n",
    "plt.ylabel(\"Cosine Similarity\", fontsize=15)\n",
    "plt.legend()\n",
    "plt.show()"
   ]
  },
  {
   "cell_type": "markdown",
   "metadata": {},
   "source": [
    ">  *__In the same way, we can find the similarity between users.__*"
   ]
  },
  {
   "cell_type": "markdown",
   "metadata": {},
   "source": [
    "__SIMILAR USERS__"
   ]
  },
  {
   "cell_type": "code",
   "execution_count": 47,
   "metadata": {},
   "outputs": [
    {
     "name": "stdout",
     "output_type": "stream",
     "text": [
      "\n",
      " Number of movies rated by user_id  470 : 32\n"
     ]
    }
   ],
   "source": [
    "user_id = 470\n",
    "movies_rated = train_sparse_matrix[user_id].nonzero()[1]\n",
    "print(f\"\\n Number of movies rated by user_id  {user_id} : {movies_rated.shape[0]}\")\n",
    "user_sim = cosine_similarity(train_sparse_matrix[user_id], train_sparse_matrix).ravel()\n",
    "sim_user_idxs = user_sim.argsort()[::-1][1:6]"
   ]
  },
  {
   "cell_type": "markdown",
   "metadata": {},
   "source": [
    "__user__"
   ]
  },
  {
   "cell_type": "code",
   "execution_count": 48,
   "metadata": {},
   "outputs": [
    {
     "data": {
      "text/html": [
       "<div>\n",
       "<style scoped>\n",
       "    .dataframe tbody tr th:only-of-type {\n",
       "        vertical-align: middle;\n",
       "    }\n",
       "\n",
       "    .dataframe tbody tr th {\n",
       "        vertical-align: top;\n",
       "    }\n",
       "\n",
       "    .dataframe thead th {\n",
       "        text-align: right;\n",
       "    }\n",
       "</style>\n",
       "<table border=\"1\" class=\"dataframe\">\n",
       "  <thead>\n",
       "    <tr style=\"text-align: right;\">\n",
       "      <th></th>\n",
       "      <th>year_of_release</th>\n",
       "      <th>title</th>\n",
       "    </tr>\n",
       "    <tr>\n",
       "      <th>movie_id</th>\n",
       "      <th></th>\n",
       "      <th></th>\n",
       "    </tr>\n",
       "  </thead>\n",
       "  <tbody>\n",
       "    <tr>\n",
       "      <th>313</th>\n",
       "      <td>2000.0</td>\n",
       "      <td>Pay It Forward</td>\n",
       "    </tr>\n",
       "    <tr>\n",
       "      <th>483</th>\n",
       "      <td>2001.0</td>\n",
       "      <td>Rush Hour 2</td>\n",
       "    </tr>\n",
       "    <tr>\n",
       "      <th>1145</th>\n",
       "      <td>2001.0</td>\n",
       "      <td>The Wedding Planner</td>\n",
       "    </tr>\n",
       "    <tr>\n",
       "      <th>1542</th>\n",
       "      <td>1993.0</td>\n",
       "      <td>Sleepless in Seattle</td>\n",
       "    </tr>\n",
       "    <tr>\n",
       "      <th>1798</th>\n",
       "      <td>1987.0</td>\n",
       "      <td>Lethal Weapon</td>\n",
       "    </tr>\n",
       "  </tbody>\n",
       "</table>\n",
       "</div>"
      ],
      "text/plain": [
       "          year_of_release                 title\n",
       "movie_id                                       \n",
       "313                2000.0        Pay It Forward\n",
       "483                2001.0           Rush Hour 2\n",
       "1145               2001.0   The Wedding Planner\n",
       "1542               1993.0  Sleepless in Seattle\n",
       "1798               1987.0         Lethal Weapon"
      ]
     },
     "execution_count": 48,
     "metadata": {},
     "output_type": "execute_result"
    }
   ],
   "source": [
    "movie_titles.loc[movies_rated[:5]]"
   ]
  },
  {
   "cell_type": "markdown",
   "metadata": {},
   "source": [
    "__similar user1__"
   ]
  },
  {
   "cell_type": "code",
   "execution_count": 49,
   "metadata": {},
   "outputs": [
    {
     "data": {
      "text/html": [
       "<div>\n",
       "<style scoped>\n",
       "    .dataframe tbody tr th:only-of-type {\n",
       "        vertical-align: middle;\n",
       "    }\n",
       "\n",
       "    .dataframe tbody tr th {\n",
       "        vertical-align: top;\n",
       "    }\n",
       "\n",
       "    .dataframe thead th {\n",
       "        text-align: right;\n",
       "    }\n",
       "</style>\n",
       "<table border=\"1\" class=\"dataframe\">\n",
       "  <thead>\n",
       "    <tr style=\"text-align: right;\">\n",
       "      <th></th>\n",
       "      <th>year_of_release</th>\n",
       "      <th>title</th>\n",
       "    </tr>\n",
       "    <tr>\n",
       "      <th>movie_id</th>\n",
       "      <th></th>\n",
       "      <th></th>\n",
       "    </tr>\n",
       "  </thead>\n",
       "  <tbody>\n",
       "    <tr>\n",
       "      <th>313</th>\n",
       "      <td>2000.0</td>\n",
       "      <td>Pay It Forward</td>\n",
       "    </tr>\n",
       "    <tr>\n",
       "      <th>1145</th>\n",
       "      <td>2001.0</td>\n",
       "      <td>The Wedding Planner</td>\n",
       "    </tr>\n",
       "    <tr>\n",
       "      <th>1428</th>\n",
       "      <td>2003.0</td>\n",
       "      <td>The Recruit</td>\n",
       "    </tr>\n",
       "    <tr>\n",
       "      <th>1542</th>\n",
       "      <td>1993.0</td>\n",
       "      <td>Sleepless in Seattle</td>\n",
       "    </tr>\n",
       "    <tr>\n",
       "      <th>1975</th>\n",
       "      <td>2000.0</td>\n",
       "      <td>Hollow Man</td>\n",
       "    </tr>\n",
       "  </tbody>\n",
       "</table>\n",
       "</div>"
      ],
      "text/plain": [
       "          year_of_release                 title\n",
       "movie_id                                       \n",
       "313                2000.0        Pay It Forward\n",
       "1145               2001.0   The Wedding Planner\n",
       "1428               2003.0           The Recruit\n",
       "1542               1993.0  Sleepless in Seattle\n",
       "1975               2000.0            Hollow Man"
      ]
     },
     "execution_count": 49,
     "metadata": {},
     "output_type": "execute_result"
    }
   ],
   "source": [
    "movie_titles.loc[train_sparse_matrix[sim_user_idxs[0]].nonzero()[1][:5]]"
   ]
  },
  {
   "cell_type": "markdown",
   "metadata": {},
   "source": [
    "__similar user2__"
   ]
  },
  {
   "cell_type": "code",
   "execution_count": 50,
   "metadata": {},
   "outputs": [
    {
     "data": {
      "text/html": [
       "<div>\n",
       "<style scoped>\n",
       "    .dataframe tbody tr th:only-of-type {\n",
       "        vertical-align: middle;\n",
       "    }\n",
       "\n",
       "    .dataframe tbody tr th {\n",
       "        vertical-align: top;\n",
       "    }\n",
       "\n",
       "    .dataframe thead th {\n",
       "        text-align: right;\n",
       "    }\n",
       "</style>\n",
       "<table border=\"1\" class=\"dataframe\">\n",
       "  <thead>\n",
       "    <tr style=\"text-align: right;\">\n",
       "      <th></th>\n",
       "      <th>year_of_release</th>\n",
       "      <th>title</th>\n",
       "    </tr>\n",
       "    <tr>\n",
       "      <th>movie_id</th>\n",
       "      <th></th>\n",
       "      <th></th>\n",
       "    </tr>\n",
       "  </thead>\n",
       "  <tbody>\n",
       "    <tr>\n",
       "      <th>1145</th>\n",
       "      <td>2001.0</td>\n",
       "      <td>The Wedding Planner</td>\n",
       "    </tr>\n",
       "    <tr>\n",
       "      <th>1307</th>\n",
       "      <td>2003.0</td>\n",
       "      <td>S.W.A.T.</td>\n",
       "    </tr>\n",
       "    <tr>\n",
       "      <th>1542</th>\n",
       "      <td>1993.0</td>\n",
       "      <td>Sleepless in Seattle</td>\n",
       "    </tr>\n",
       "    <tr>\n",
       "      <th>1798</th>\n",
       "      <td>1987.0</td>\n",
       "      <td>Lethal Weapon</td>\n",
       "    </tr>\n",
       "    <tr>\n",
       "      <th>3638</th>\n",
       "      <td>2003.0</td>\n",
       "      <td>Bad Boys II</td>\n",
       "    </tr>\n",
       "  </tbody>\n",
       "</table>\n",
       "</div>"
      ],
      "text/plain": [
       "          year_of_release                 title\n",
       "movie_id                                       \n",
       "1145               2001.0   The Wedding Planner\n",
       "1307               2003.0              S.W.A.T.\n",
       "1542               1993.0  Sleepless in Seattle\n",
       "1798               1987.0         Lethal Weapon\n",
       "3638               2003.0           Bad Boys II"
      ]
     },
     "execution_count": 50,
     "metadata": {},
     "output_type": "execute_result"
    }
   ],
   "source": [
    "movie_titles.loc[train_sparse_matrix[sim_user_idxs[1]].nonzero()[1][:5]]"
   ]
  },
  {
   "cell_type": "markdown",
   "metadata": {},
   "source": [
    "<font color='red'>__Please open the next notebook__</font>"
   ]
  }
 ],
 "metadata": {
  "kernelspec": {
   "display_name": "Python 3",
   "language": "python",
   "name": "python3"
  },
  "language_info": {
   "codemirror_mode": {
    "name": "ipython",
    "version": 3
   },
   "file_extension": ".py",
   "mimetype": "text/x-python",
   "name": "python",
   "nbconvert_exporter": "python",
   "pygments_lexer": "ipython3",
   "version": "3.6.6"
  }
 },
 "nbformat": 4,
 "nbformat_minor": 2
}
