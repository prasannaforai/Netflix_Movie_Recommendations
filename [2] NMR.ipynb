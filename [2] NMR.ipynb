{
 "cells": [
  {
   "cell_type": "code",
   "execution_count": 87,
   "metadata": {},
   "outputs": [],
   "source": [
    "import warnings\n",
    "warnings.filterwarnings('ignore')\n",
    "\n",
    "import os\n",
    "from datetime import datetime\n",
    "import numpy as np\n",
    "import pandas as pd\n",
    "from scipy import sparse\n",
    "from multiprocessing import Pool, cpu_count# used for multiprocessing\n",
    "from sklearn.metrics.pairwise import cosine_similarity\n",
    "import time\n",
    "import rec_utils #featurize data\n",
    "import gc\n",
    "from collections import OrderedDict\n",
    "\n",
    "import xgboost as xgb\n",
    "import random\n",
    "import matplotlib.pyplot as plt\n",
    "import seaborn as sns\n",
    "\n",
    "%matplotlib inline"
   ]
  },
  {
   "cell_type": "markdown",
   "metadata": {},
   "source": [
    "# 4. Machine Learning Models\n",
    "\n",
    "* As the size of the data is huge, we sample a small subset of data at random and build models on it."
   ]
  },
  {
   "cell_type": "markdown",
   "metadata": {},
   "source": [
    "## 4.1 Sampling data"
   ]
  },
  {
   "cell_type": "code",
   "execution_count": 2,
   "metadata": {},
   "outputs": [],
   "source": [
    "def sample_sparse_matrix(sparse_matrix, num_users, num_movies, save_name):\n",
    "    \n",
    "    #retrieve the info of sparse matrix\n",
    "    row_idxs, col_idxs, ratings = sparse.find(sparse_matrix)\n",
    "    \n",
    "    #retrieve the unique users and movies\n",
    "    users = np.unique(row_idxs)\n",
    "    movies = np.unique(col_idxs)\n",
    "    \n",
    "    print(f\"Sparse Matrix : (users, movies)     ==> ({len(users)}, {len(movies)})\")\n",
    "    print(f\"Number of ratings in Sparse Matrix  ==>  {len(ratings)}\\n\")\n",
    "    \n",
    "    np.random.seed(15)\n",
    "    sampled_users = np.random.choice(users, num_users)\n",
    "    sampled_movies = np.random.choice(movies, num_movies)\n",
    "    \n",
    "    #boolean mask for sampled users and sampled_movies\n",
    "    mask = np.logical_and(np.isin(row_idxs, sampled_users), np.isin(col_idxs, sampled_movies))\n",
    "    \n",
    "    print(\"Sampling the matrix....\\n\")\n",
    "    #retrieve the sampled ratings\n",
    "    sampled_sparse_matrix = sparse.csr_matrix((ratings[mask], (row_idxs[mask], col_idxs[mask])),\n",
    "                                              shape=(max(sampled_users)+1, max(sampled_movies)+1))\n",
    "    \n",
    "    print(f\"Sampled Sparse Matrix : (users, movies)     ==> ({len(sampled_users)}, {len(sampled_movies)})\")\n",
    "    print(f\"Number of ratings in Sampled Sparse Matrix  ==>  {ratings[mask].shape[0]}\\n\")\n",
    "    \n",
    "    print('Saving to disk...\\n')\n",
    "    sparse.save_npz(save_name, sampled_sparse_matrix)\n",
    "    print(\"Done...\\n\")\n",
    "    \n",
    "    return sampled_sparse_matrix"
   ]
  },
  {
   "cell_type": "markdown",
   "metadata": {},
   "source": [
    "__LOADING THE TRAIN, CV and TEST SPARSE MATRICES__"
   ]
  },
  {
   "cell_type": "code",
   "execution_count": 3,
   "metadata": {},
   "outputs": [
    {
     "name": "stdout",
     "output_type": "stream",
     "text": [
      "shape of train : (2649430, 17771)\n",
      "shape of cv    : (2649430, 17771)\n",
      "shape of test  : (2649430, 17771)\n"
     ]
    }
   ],
   "source": [
    "train_sparse_matrix = sparse.load_npz('train_sparse_matrix.npz')\n",
    "cv_sparse_matrix = sparse.load_npz('cv_sparse_matrix.npz')\n",
    "test_sparse_matrix = sparse.load_npz('test_sparse_matrix.npz')\n",
    "\n",
    "print(f\"shape of train : {train_sparse_matrix.get_shape()}\")\n",
    "print(f\"shape of cv    : {cv_sparse_matrix.get_shape()}\")\n",
    "print(f\"shape of test  : {test_sparse_matrix.get_shape()}\")"
   ]
  },
  {
   "cell_type": "markdown",
   "metadata": {},
   "source": [
    "<h3>4.1.1 Build samples</h3>\n",
    "\n",
    "__SAMPLE FROM TRAIN__"
   ]
  },
  {
   "cell_type": "code",
   "execution_count": 4,
   "metadata": {},
   "outputs": [
    {
     "name": "stdout",
     "output_type": "stream",
     "text": [
      "Loading from disk...\n",
      "\n",
      "Done...\n",
      "\n",
      "Processed in 0:00:00.158805\n"
     ]
    }
   ],
   "source": [
    "start = datetime.now()\n",
    "if not os.path.isfile('sampled_train_matrix.npz'):\n",
    "    sampled_train_matrix = sample_sparse_matrix(train_sparse_matrix,\n",
    "                                                num_users=25000, num_movies=3000,\n",
    "                                                save_name='sampled_train_matrix.npz')\n",
    "else: \n",
    "    print('Loading from disk...\\n')\n",
    "    sampled_train_matrix = sparse.load_npz('sampled_train_matrix.npz')\n",
    "    print('Done...\\n')\n",
    "\n",
    "print(f\"Processed in {datetime.now() - start}\")"
   ]
  },
  {
   "cell_type": "markdown",
   "metadata": {},
   "source": [
    "__SAMPLE FROM CV__"
   ]
  },
  {
   "cell_type": "code",
   "execution_count": 5,
   "metadata": {},
   "outputs": [
    {
     "name": "stdout",
     "output_type": "stream",
     "text": [
      "Loading from disk...\n",
      "\n",
      "Done...\n",
      "\n",
      "Processed in 0:00:00.028905\n"
     ]
    }
   ],
   "source": [
    "start = datetime.now()\n",
    "if not os.path.isfile('sampled_cv_matrix.npz'):\n",
    "    sampled_cv_matrix = sample_sparse_matrix(cv_sparse_matrix,\n",
    "                                             num_users=7000, num_movies=1400,\n",
    "                                             save_name='sampled_cv_matrix.npz')\n",
    "else: \n",
    "    print('Loading from disk...\\n')\n",
    "    sampled_cv_matrix = sparse.load_npz('sampled_cv_matrix.npz')\n",
    "    print('Done...\\n')\n",
    "\n",
    "print(f\"Processed in {datetime.now() - start}\")"
   ]
  },
  {
   "cell_type": "markdown",
   "metadata": {},
   "source": [
    "__SAMPLE FROM TEST__"
   ]
  },
  {
   "cell_type": "code",
   "execution_count": 6,
   "metadata": {},
   "outputs": [
    {
     "name": "stdout",
     "output_type": "stream",
     "text": [
      "Loading from disk...\n",
      "\n",
      "Done...\n",
      "\n",
      "Processed in 0:00:00.066828\n"
     ]
    }
   ],
   "source": [
    "start = datetime.now()\n",
    "if not os.path.isfile('sampled_test_matrix.npz'):\n",
    "    sampled_test_matrix = sample_sparse_matrix(test_sparse_matrix,\n",
    "                                               num_users=7000, num_movies=1400,\n",
    "                                               save_name='sampled_test_matrix.npz')\n",
    "else: \n",
    "    print('Loading from disk...\\n')\n",
    "    sampled_test_matrix = sparse.load_npz('sampled_test_matrix.npz')\n",
    "    print('Done...\\n')\n",
    "\n",
    "print(f\"Processed in {datetime.now() - start}\")"
   ]
  },
  {
   "cell_type": "markdown",
   "metadata": {},
   "source": [
    "<h2>4.2 Finding Averages (from sampled train)</h2>"
   ]
  },
  {
   "cell_type": "code",
   "execution_count": 7,
   "metadata": {},
   "outputs": [],
   "source": [
    "def get_avg_ratings(sparse_matrix, of='user'):\n",
    "    \n",
    "    # if users avg over rows, else cols\n",
    "    ax = 1 if of == 'user' else 0\n",
    "    sum_ratings = sparse_matrix.sum(axis=ax).A1\n",
    "    num_ratings = (sparse_matrix != 0).sum(axis=ax).A1\n",
    "    \n",
    "    #avg\n",
    "    u, m = sparse_matrix.shape\n",
    "    avg_ratings = {i : np.round(sum_ratings[i] / num_ratings[i], 4) \n",
    "            for i in range(u if ax==1 else m) \n",
    "            if num_ratings[i] != 0}\n",
    "    \n",
    "    \n",
    "    return avg_ratings"
   ]
  },
  {
   "cell_type": "markdown",
   "metadata": {},
   "source": [
    "__GLOBAL AVERAGE OF ALL MOVIE RATINGS__"
   ]
  },
  {
   "cell_type": "code",
   "execution_count": 8,
   "metadata": {},
   "outputs": [
    {
     "name": "stdout",
     "output_type": "stream",
     "text": [
      "Global average of all movie ratings in train :  3.577\n"
     ]
    }
   ],
   "source": [
    "sampled_train_averages = {}\n",
    "global_avg = sampled_train_matrix.sum() / sampled_train_matrix.count_nonzero()\n",
    "sampled_train_averages['global'] = global_avg\n",
    "print(f\"Global average of all movie ratings in train : { global_avg : .3f}\")"
   ]
  },
  {
   "cell_type": "markdown",
   "metadata": {},
   "source": [
    "__AVERAGE RATING OF USER__"
   ]
  },
  {
   "cell_type": "code",
   "execution_count": 9,
   "metadata": {},
   "outputs": [
    {
     "name": "stdout",
     "output_type": "stream",
     "text": [
      "average rating given by user 142 : 3.5\n"
     ]
    }
   ],
   "source": [
    "sampled_train_averages['user'] = get_avg_ratings(sampled_train_matrix, 'user')\n",
    "print(f\"average rating given by user 142 : {sampled_train_averages['user'][142]}\")"
   ]
  },
  {
   "cell_type": "markdown",
   "metadata": {},
   "source": [
    "__AVERAGE RATING OF MOVIE__"
   ]
  },
  {
   "cell_type": "code",
   "execution_count": 10,
   "metadata": {},
   "outputs": [
    {
     "name": "stdout",
     "output_type": "stream",
     "text": [
      "average rating of movie 47 : 3.3738\n"
     ]
    }
   ],
   "source": [
    "sampled_train_averages['movie'] = get_avg_ratings(sampled_train_matrix, 'movie')\n",
    "print(f\"average rating of movie 47 : {sampled_train_averages['movie'][47]}\")"
   ]
  },
  {
   "cell_type": "markdown",
   "metadata": {},
   "source": [
    "## 4.3 Featurizing data"
   ]
  },
  {
   "cell_type": "code",
   "execution_count": 11,
   "metadata": {},
   "outputs": [
    {
     "name": "stdout",
     "output_type": "stream",
     "text": [
      "Number of ratings in sampled train matrix : 762801\n",
      "Number of ratings in sampled cv matrix    : 34725\n",
      "Number of ratings in sampled test matrix  : 30999\n"
     ]
    }
   ],
   "source": [
    "print(f\"Number of ratings in sampled train matrix : {sampled_train_matrix.count_nonzero()}\")\n",
    "print(f\"Number of ratings in sampled cv matrix    : {sampled_cv_matrix.count_nonzero()}\")\n",
    "print(f\"Number of ratings in sampled test matrix  : {sampled_test_matrix.count_nonzero()}\")"
   ]
  },
  {
   "cell_type": "markdown",
   "metadata": {},
   "source": [
    "<h3> 4.3.1 Featurizing data for regression problem </h3>"
   ]
  },
  {
   "cell_type": "markdown",
   "metadata": {},
   "source": [
    "<h4> 4.3.1 Featurizing train data </h4>\n",
    "\n",
    "-----------\n",
    "\n",
    "- __GAvg__ : Average rating of all the ratings \n",
    "\n",
    "- __Similar users rating of this movie__:<br>\n",
    "sur1, sur2, sur3 (ratings of top 3 similar users who rated that movie)\n",
    "\n",
    "- __Similar movies rated by this user__:<br>\n",
    "smr1, smr2, smr3 (ratings of top 3 similar movies rated by this user)\n",
    "\n",
    "- __UAvg__ : Average rating of a user.\n",
    "\n",
    "- __MAvg__ : Average rating of this movie.\n",
    "\n",
    "- __rating__ : Rating of this movie by this user.\n",
    "\n",
    "-----------------------"
   ]
  },
  {
   "cell_type": "code",
   "execution_count": 12,
   "metadata": {},
   "outputs": [],
   "source": [
    "columns = ['user', 'movie', 'GAvg', 'sur1', 'sur2', 'sur3', 'sur4', 'sur5','smr1', 'smr2', 'smr3', 'smr4', 'smr5', 'UAvg', 'MAvg', 'rating']"
   ]
  },
  {
   "cell_type": "code",
   "execution_count": 13,
   "metadata": {},
   "outputs": [],
   "source": [
    "def featurize_data(idx, user, movie, rating, sparse_matrix, avgs_dict):\n",
    "    \n",
    "    sampled_train_averages = avgs_dict\n",
    "    #------------------ratings of movie by similar users for \"current user\"-------------------\n",
    "    top_sim_users = cosine_similarity(sparse_matrix[user], sparse_matrix).ravel().argsort()[::-1]\n",
    "    top_sim_user_ratings = sparse_matrix[top_sim_users, movie].toarray().ravel()\n",
    "    top_sim_user_ratings = top_sim_user_ratings[top_sim_user_ratings != 0][:5].tolist()\n",
    "    top_sim_user_ratings += [sampled_train_averages['movie'][movie]]*(5 - len(top_sim_user_ratings))\n",
    "    #print(user)\n",
    "        \n",
    "    #------------------ratings of user to similar movies of 'cuurent movie'---------------------\n",
    "    top_sim_movies = cosine_similarity(sparse_matrix[:, movie].T, sparse_matrix.T).ravel().argsort()[::-1]\n",
    "    top_sim_movie_ratings = sparse_matrix[user, top_sim_movies].toarray().ravel()\n",
    "    top_sim_movie_ratings = top_sim_movie_ratings[top_sim_movie_ratings != 0][:5].tolist()\n",
    "    top_sim_movie_ratings += [sampled_train_averages['user'][user]]*(5 - len(top_sim_movie_ratings))\n",
    "    #print(movie)\n",
    "        \n",
    "    #------------------build a list using the above features-----------------------------\n",
    "        \n",
    "    vector = list()\n",
    "    vector.append(user)\n",
    "    vector.append(movie)\n",
    "    vector.append(sampled_train_averages['global'])\n",
    "    vector += top_sim_user_ratings\n",
    "    vector += top_sim_movie_ratings\n",
    "    vector.append(sampled_train_averages['user'][user])\n",
    "    vector.append(sampled_train_averages['movie'][movie])\n",
    "    vector.append(rating)\n",
    "        \n",
    "    return (idx, vector)"
   ]
  },
  {
   "cell_type": "markdown",
   "metadata": {},
   "source": [
    "<font color='orange'>__MULTIPROCESSING__</font>\n",
    "\n",
    "* The sheer amount of data we've makes us run into processing problems.\n",
    "* Python by default has Global Interpreter Lock(is only single threaded), <br>\n",
    "Featurizing the data consumes a lot of time(~5 days).\n",
    "* Thankfully Python has an inbuilt multiprocessing library to make use of all the cores, <br>\n",
    "the compute time is reduced by half(~2days).\n",
    "* Below is a comparision of the two."
   ]
  },
  {
   "cell_type": "code",
   "execution_count": 14,
   "metadata": {},
   "outputs": [
    {
     "name": "stdout",
     "output_type": "stream",
     "text": [
      "\n",
      " ==> Processed using SINGLE CORE in 0:00:44.494594\n"
     ]
    }
   ],
   "source": [
    "t1 = datetime.now()\n",
    "\n",
    "sample_results = []\n",
    "sampled_users, sampled_movies, sampled_ratings = sparse.find(sampled_train_matrix)\n",
    "for idx, (user, movie, rating) in enumerate(zip(sampled_users[:100],\n",
    "                                                        sampled_movies[:100],\n",
    "                                                        sampled_ratings[:100])):\n",
    "    sample_results.append(featurize_data(idx, user, movie, rating, sampled_train_matrix, sampled_train_averages))\n",
    "\n",
    "print(f\"\\n ==> Processed using SINGLE CORE in {datetime.now() - t1}\")"
   ]
  },
  {
   "cell_type": "code",
   "execution_count": 15,
   "metadata": {},
   "outputs": [
    {
     "name": "stdout",
     "output_type": "stream",
     "text": [
      "\n",
      " ==> Processed using MULTIPLE CORES in 0:00:23.522916\n"
     ]
    }
   ],
   "source": [
    "t1 = datetime.now()\n",
    "\n",
    "sample_results = []\n",
    "pool = Pool(cpu_count())\n",
    "\n",
    "sampled_users, sampled_movies, sampled_ratings = sparse.find(sampled_train_matrix)\n",
    "for idx, (user, movie, rating) in enumerate(zip(sampled_users[:100],\n",
    "                                                        sampled_movies[:100],\n",
    "                                                        sampled_ratings[:100])):\n",
    "    pool. apply_async(rec_utils.featurize_data,\n",
    "                     args=(idx, user, movie, rating, sampled_train_matrix, sampled_train_averages),\n",
    "                     callback=sample_results.append)\n",
    "pool.close()\n",
    "pool.join()\n",
    "\n",
    "print(f\"\\n ==> Processed using MULTIPLE CORES in {datetime.now() - t1}\")"
   ]
  },
  {
   "cell_type": "markdown",
   "metadata": {},
   "source": [
    "__FEATURIZING TRAIN DATA__\n",
    "\n",
    "* Be patient as the computution is time consuming with many function calls per thread.\n",
    "* *(The below computation took 2days)*"
   ]
  },
  {
   "cell_type": "code",
   "execution_count": 14,
   "metadata": {},
   "outputs": [
    {
     "name": "stdout",
     "output_type": "stream",
     "text": [
      "\n",
      " Loading from disk...\n",
      "\n",
      " Done..\n"
     ]
    }
   ],
   "source": [
    "if not os.path.isfile('train_features_matrix.csv'):\n",
    "    sampled_users, sampled_movies, sampled_ratings = sparse.find(sampled_train_matrix)\n",
    "    print(f\"\\n Number of sampled ratings to be processed in TRAIN : {len(sampled_ratings)}\")\n",
    "\n",
    "    train_results_dict = OrderedDict()\n",
    "    bs = 624\n",
    "    num_batches = int(len(sampled_ratings) / bs) + 1\n",
    "    print(f\"\\n Splitting into {num_batches} batches each of size {bs}\\n\\n\")\n",
    "\n",
    "    for b in range(num_batches):\n",
    "    \n",
    "        t1 = datetime.now()\n",
    "    \n",
    "        train_results = []\n",
    "        pool = Pool(cpu_count())\n",
    "    \n",
    "        for idx, (user, movie, rating) in enumerate(zip(sampled_users[b*bs : (b+1)*bs],\n",
    "                                                        sampled_movies[b*bs : (b+1)*bs],\n",
    "                                                        sampled_ratings[b*bs : (b+1)*bs])):\n",
    "            pool.apply_async(rec_utils.featurize_data,\n",
    "                             args=(idx, user, movie, rating, sampled_train_matrix, sampled_train_averages),\n",
    "                             callback=train_results.append)\n",
    "   \n",
    "        pool.close()\n",
    "        pool.join()\n",
    "    \n",
    "        train_results.sort(key=lambda x : x[0])\n",
    "        train_results = [r for _, r in train_results]\n",
    "        \n",
    "        train_results_dict[b] = train_results\n",
    "    \n",
    "        print(f\"\\n ==> Processed batch{b+1} in {datetime.now() - t1}\")\n",
    "    \n",
    "    df = pd.DataFrame(np.concatenate([train_results_dict[key] for key in train_results_dict.keys()], 0), columns=columns)\n",
    "    df.to_csv('train_features_matrix.csv', index=False)\n",
    "    \n",
    "else:\n",
    "    \n",
    "    print('\\n Loading from disk...')\n",
    "    train_features_matrix = pd.read_csv('train_features_matrix.csv')\n",
    "    print('\\n Done..')"
   ]
  },
  {
   "cell_type": "markdown",
   "metadata": {},
   "source": [
    "__FEATURIZING CV DATA__"
   ]
  },
  {
   "cell_type": "code",
   "execution_count": 15,
   "metadata": {},
   "outputs": [],
   "source": [
    "sampled_cv_averages = {}\n",
    "sampled_cv_averages['global'] = np.round(sampled_cv_matrix.sum() / sampled_cv_matrix.count_nonzero(), 4)\n",
    "sampled_cv_averages['user'] = get_avg_ratings(sampled_cv_matrix, 'user')\n",
    "sampled_cv_averages['movie'] = get_avg_ratings(sampled_cv_matrix, 'movie')"
   ]
  },
  {
   "cell_type": "code",
   "execution_count": 16,
   "metadata": {},
   "outputs": [
    {
     "name": "stdout",
     "output_type": "stream",
     "text": [
      "\n",
      " Loading from disk...\n",
      "\n",
      " Done..\n"
     ]
    }
   ],
   "source": [
    "if not os.path.isfile('cv_features_matrix.csv'):\n",
    "    \n",
    "    t1 = datetime.now()\n",
    "\n",
    "    sampled_users, sampled_movies, sampled_ratings = sparse.find(sampled_cv_matrix)\n",
    "    print(f\"Number of sampled ratings to be processed in Cross_Val : {len(sampled_ratings)}\\n\")\n",
    "\n",
    "    cv_results = []\n",
    "    def collect_result(result):\n",
    "        global cv_results\n",
    "        cv_results.append(result)\n",
    "    \n",
    "    pool = Pool(cpu_count())\n",
    "\n",
    "    for idx, (user, movie, rating) in enumerate(zip(sampled_users,\n",
    "                                                sampled_movies,\n",
    "                                                sampled_ratings)):\n",
    "    \n",
    "        pool.apply_async(rec_utils.featurize_data,\n",
    "                         args=(idx, user, movie, rating, sampled_cv_matrix, sampled_cv_averages),\n",
    "                         callback=collect_result)\n",
    "   \n",
    "    pool.close()\n",
    "    pool.join()\n",
    "\n",
    "    cv_results.sort(key=lambda x : x[0])\n",
    "    cv_results = [r for _, r in cv_results]\n",
    "    pd.DataFrame(cv_results, columns=columns).to_csv('cv_features_matrix.csv', index=False)\n",
    "    \n",
    "    del cv_results\n",
    "    gc.collect()\n",
    "\n",
    "    print(f\"\\nprocessed in {datetime.now() - t1}sec\")\n",
    "    \n",
    "else:\n",
    "    print('\\n Loading from disk...')\n",
    "    cv_features_matrix = pd.read_csv('cv_features_matrix.csv')\n",
    "    print('\\n Done..')"
   ]
  },
  {
   "cell_type": "markdown",
   "metadata": {},
   "source": [
    "__FEATURIZING TEST DATA__"
   ]
  },
  {
   "cell_type": "code",
   "execution_count": 17,
   "metadata": {},
   "outputs": [],
   "source": [
    "sampled_test_averages = {}\n",
    "sampled_test_averages['global'] = np.round(sampled_test_matrix.sum() / sampled_test_matrix.count_nonzero(), 4)\n",
    "sampled_test_averages['user'] = get_avg_ratings(sampled_test_matrix, 'user')\n",
    "sampled_test_averages['movie'] = get_avg_ratings(sampled_test_matrix, 'movie')"
   ]
  },
  {
   "cell_type": "code",
   "execution_count": 18,
   "metadata": {},
   "outputs": [
    {
     "name": "stdout",
     "output_type": "stream",
     "text": [
      "\n",
      " Loading from disk...\n",
      "\n",
      " Done...\n"
     ]
    }
   ],
   "source": [
    "if not os.path.isfile('test_features_matrix.csv'):\n",
    "    sampled_users, sampled_movies, sampled_ratings = sparse.find(sampled_test_matrix)\n",
    "    print(f\"\\n Number of sampled ratings to be processed in Cross_Val : {len(sampled_ratings)}\\n\")\n",
    "\n",
    "    test_results_dict = OrderedDict()\n",
    "    bs = 620\n",
    "    num_batches = int(len(sampled_ratings) / bs) + 1\n",
    "    print(f\"\\n Splitting into {num_batches} batches each of size {bs}\")\n",
    "\n",
    "    for b in range(num_batches):\n",
    "    \n",
    "        t1 = datetime.now()\n",
    "    \n",
    "        test_results = []\n",
    "        pool = Pool(cpu_count())\n",
    "    \n",
    "        for idx, (user, movie, rating) in enumerate(zip(sampled_users[b*bs : (b+1)*bs],\n",
    "                                                    sampled_movies[b*bs : (b+1)*bs],\n",
    "                                                    sampled_ratings[b*bs : (b+1)*bs])):\n",
    "            pool.apply_async(rec_utils.featurize_data,\n",
    "                             args=(idx, user, movie, rating, sampled_test_matrix, sampled_test_averages),\n",
    "                             callback=test_results.append)\n",
    "   \n",
    "        pool.close()\n",
    "        pool.join()\n",
    "    \n",
    "        test_results.sort(key=lambda x : x[0])\n",
    "        test_results = [r for _, r in test_results]\n",
    "    \n",
    "        test_results_dict[b] = test_results\n",
    "    \n",
    "        print(f\"\\n ==> Processed batch{b+1} in {datetime.now() - t1}\")\n",
    "\n",
    "\n",
    "    df = pd.DataFrame(np.concatenate([test_results_dict[key] for key in test_results_dict.keys()], 0), columns=columns)\n",
    "    df.to_csv('test_features_matrix.csv', index=False)\n",
    "    \n",
    "else:\n",
    "    print(\"\\n Loading from disk...\")\n",
    "    test_features_matrix = pd.read_csv('test_features_matrix.csv')\n",
    "    print('\\n Done...')"
   ]
  },
  {
   "cell_type": "markdown",
   "metadata": {},
   "source": [
    "<h2> 4.4 Transforming data for Surprise models</h2>"
   ]
  },
  {
   "cell_type": "markdown",
   "metadata": {},
   "source": [
    "__TRANSFORMING TRAIN DATA__\n",
    "\n",
    "* We can't just input raw data (movie, user, rating) to train the models using the Surprise library.\n",
    "\n",
    "* The Surprise Library has a seperate format for TRAIN and TEST data, which will be useful for training the models <br>like SVD, KNNBaseLineOnly....etc..,in Surprise.\n",
    "\n",
    "* We can load the data from a file, or from a Pandas  DataFrame. [load_from_dataframe](http://surprise.readthedocs.io/en/stable/getting_started.html#load-dom-dataframe-py) "
   ]
  },
  {
   "cell_type": "code",
   "execution_count": 19,
   "metadata": {},
   "outputs": [],
   "source": [
    "from surprise import Reader, Dataset"
   ]
  },
  {
   "cell_type": "code",
   "execution_count": 20,
   "metadata": {},
   "outputs": [],
   "source": [
    "# It is to specify how to read the dataframe.\n",
    "# for our dataframe, we don't have to specify anything extra..\n",
    "reader = Reader(rating_scale=(1, 5))\n",
    "\n",
    "# create the traindata from the dataframe...\n",
    "train_data = Dataset.load_from_df(train_features_matrix[['user', 'movie', 'rating']], reader)\n",
    "\n",
    "# build the trainset from traindata.., It is of dataset format from surprise library..\n",
    "Xtrain = train_data.build_full_trainset() "
   ]
  },
  {
   "cell_type": "markdown",
   "metadata": {},
   "source": [
    "__TRANSFORMING CV and TEST DATA__\n",
    "\n",
    "- The CV and Test Sets are just a list of (user, movie, rating) tuples. (Order in the tuple is important) "
   ]
  },
  {
   "cell_type": "code",
   "execution_count": 21,
   "metadata": {},
   "outputs": [],
   "source": [
    "Xcv = list(zip(cv_features_matrix.user.values,\n",
    "               cv_features_matrix.movie.values,\n",
    "               cv_features_matrix.rating.values))\n",
    "\n",
    "Xtest = list(zip(test_features_matrix.user.values,\n",
    "                 test_features_matrix.movie.values,\n",
    "                 test_features_matrix.rating.values))\n"
   ]
  },
  {
   "cell_type": "markdown",
   "metadata": {},
   "source": [
    "<h2> 4.5 Applying Machine Learning models </h2>\n",
    "\n",
    "* We'll use a Dictionary to store the RMSE and MAPE of all the models trained.\n",
    "\n",
    "\n",
    "* It stores the metrics in a dictionary of dictionaries\n",
    "\n",
    ">  __keys__ : model_name <br> __value__   : dict( __key__ : metric, __value__ : error_value )\n"
   ]
  },
  {
   "cell_type": "code",
   "execution_count": 22,
   "metadata": {},
   "outputs": [],
   "source": [
    "models_evaluation_train = {}\n",
    "models_evaluation_cv = {}\n",
    "models_evaluation_test = {}"
   ]
  },
  {
   "cell_type": "markdown",
   "metadata": {},
   "source": [
    "__UTILITY FUNCTIONS FOR REGRESSION__"
   ]
  },
  {
   "cell_type": "code",
   "execution_count": 23,
   "metadata": {},
   "outputs": [],
   "source": [
    "# to get rmse and mape given actual and predicted ratings..\n",
    "def get_error_metrics(y_true, y_pred):\n",
    "    rmse = np.sqrt(np.mean((y_true - y_pred)**2))\n",
    "    mape = np.mean(np.abs( (y_true - y_pred)/y_true )) * 100\n",
    "    return rmse, mape\n",
    "\n",
    "\n",
    "def run_xgbr(Xtrain, Ytrain, Xtest, Ytest, max_depth=None, n_trees=None):\n",
    "    \n",
    "    print('\\n Training the Model....')\n",
    "    start = datetime.now()\n",
    "    xgb_reg = xgb.XGBRegressor(n_jobs=-2, random_state=15, max_depth=max_depth, n_estimators=n_trees)\n",
    "    xgb_reg.fit(Xtrain, Ytrain, eval_metric = 'rmse')\n",
    "    print(f'\\n Done... Time taken : {datetime.now() - start}')\n",
    "    \n",
    "    Ytrain_pred = xgb_reg.predict(Xtrain)\n",
    "    rmse_train, mape_train = get_error_metrics(Ytrain, Ytrain_pred)\n",
    "    \n",
    "    print('\\n', '-'*45)\n",
    "    print('    ERROR ON TRAIN DATA ')\n",
    "    print('-'*45)\n",
    "    print(f'==> RMSE : {rmse_train}')\n",
    "    print(f'==> MAPE : {mape_train}')\n",
    "    \n",
    "    Ytest_pred = xgb_reg.predict(Xtest)\n",
    "    rmse_test, mape_test = get_error_metrics(Ytest, Ytest_pred)\n",
    "    \n",
    "    test_results = {'rmse': rmse_test,\n",
    "                     'mape' : mape_test,\n",
    "                     'predictions' : Ytest_pred}\n",
    "    \n",
    "    print('\\n', '-'*45)\n",
    "    print('    ERROR ON TEST DATA')\n",
    "    print('-'*45)\n",
    "    print(f'==> RMSE : {rmse_test}')\n",
    "    print(f'==> MAPE : {mape_test}')\n",
    "    print('\\n', '-'*45)\n",
    "    \n",
    "    xgb.plot_importance(xgb_reg)\n",
    "    \n",
    "    return test_results\n",
    "    \n",
    "    \n",
    "\n",
    "#'''\n",
    "def xgboost_cv(x_train, y_train, x_cv, y_cv, depth_vals=None, n_trees=None):\n",
    "    \n",
    "    rmse_errors = np.zeros((len(n_trees), len(depth_vals)))\n",
    "    mape_errors = rmse_errors.copy()\n",
    "    \n",
    "    for i, n_t in enumerate(n_trees):\n",
    "        #print(f\"At n_trees = {n_t}\")\n",
    "        for j, depth in enumerate(depth_vals):\n",
    "            algo = xgb.XGBRegressor(n_jobs=-1, max_depth=depth, random_state=15, n_estimators=n_t)\n",
    "            algo.fit(x_train, y_train, eval_metric = 'rmse')\n",
    "            #y_train_pred = algo.predict(x_train)\n",
    "            #rmse_train, mape_train = get_error_metrics(y_train.values, y_train_pred)\n",
    "            y_cv_pred = algo.predict(x_cv) \n",
    "            rmse_cv, mape_cv = get_error_metrics(y_true=y_cv.values, y_pred=y_cv_pred)\n",
    "            rmse_errors[i, j] = np.round(rmse_cv, 5)\n",
    "            mape_errors[i, j] = np.round(mape_cv, 5)\n",
    "            #print(f\"            depth = {depth}, rmse = {rmse_cv : .5f}, mape = {mape_cv : .5f}\")\n",
    "            \n",
    "    fig, (ax1, ax2) = plt.subplots(1, 2, dpi=100, figsize=(12, 5))\n",
    "    fig.suptitle(\"RMSE and MAPE\")\n",
    "    \n",
    "    min_rmse = rmse_errors.min()\n",
    "    best_n_trees = n_trees[np.where(rmse_errors == min_rmse)[0][0]]\n",
    "    best_depth = depth_vals[np.where(rmse_errors == min_rmse)[1][0]]\n",
    "    \n",
    "    sns.heatmap(rmse_errors,\n",
    "                fmt='.4f',\n",
    "                ax=ax1,\n",
    "                xticklabels=depth_vals,\n",
    "                yticklabels=n_trees,\n",
    "                annot=True,\n",
    "                linewidths=0.8)\n",
    "    ax1.set_xlabel('max_depth')\n",
    "    ax1.set_ylabel('n_trees')\n",
    "    ax1.set_title(f'best RMSE={min_rmse} at n_trees={best_n_trees}, depth={best_depth}')\n",
    "    \n",
    "    sns.heatmap(mape_errors,\n",
    "                fmt='.4f',\n",
    "                ax=ax2,\n",
    "                xticklabels=depth_vals,\n",
    "                yticklabels=n_trees,\n",
    "                annot=True,\n",
    "                linewidths=0.5)\n",
    "    \n",
    "    ax2.set_xlabel('max_depth')\n",
    "    ax2.set_ylabel('n_trees')\n",
    "    ax2.set_title('MAPE')"
   ]
  },
  {
   "cell_type": "markdown",
   "metadata": {},
   "source": [
    "__UTILITY FUNCTIONS FOR SURPRISE__"
   ]
  },
  {
   "cell_type": "code",
   "execution_count": 24,
   "metadata": {},
   "outputs": [],
   "source": [
    "# it is just to makesure that all of our algorithms should produce same results\n",
    "# everytime they run...\n",
    "import random\n",
    "random.seed(15)\n",
    "np.random.seed(15)\n",
    "\n",
    "##########################################################\n",
    "# get  (actual_list , predicted_list) ratings given list \n",
    "# of predictions (prediction is a class in Surprise).    \n",
    "##########################################################\n",
    "def get_ratings(predictions):\n",
    "    actual = np.array([pred.r_ui for pred in predictions])\n",
    "    pred = np.array([pred.est for pred in predictions])\n",
    "    \n",
    "    return actual, pred\n",
    "\n",
    "################################################################\n",
    "# get ''rmse'' and ''mape'' , given list of prediction objecs \n",
    "################################################################\n",
    "def get_errors(predictions):\n",
    "\n",
    "    actual, pred = get_ratings(predictions)\n",
    "    rmse = np.sqrt(np.mean((pred - actual)**2))\n",
    "    mape = np.mean(np.abs(pred - actual)/actual)\n",
    "\n",
    "    return rmse, mape*100\n",
    "\n",
    "##################################################################################\n",
    "# It will return predicted ratings, rmse and mape of both train and test data   #\n",
    "##################################################################################\n",
    "def run_surprise(algo, trainset, testset, cvset=None): \n",
    "    '''\n",
    "        return train_dict, test_dict\n",
    "    \n",
    "        It returns two dictionaries, one for train and the other is for test\n",
    "        Each of them have 3 key-value pairs, which specify ''rmse'', ''mape'', and ''predicted ratings''.\n",
    "    '''\n",
    "    \n",
    "    train_results = dict()\n",
    "    test_results = dict()\n",
    "    cv_results = dict() if cvset is not None else None\n",
    "    \n",
    "    # train the algorithm with the trainset\n",
    "    start = datetime.now()\n",
    "    print('\\n Training the MODEL...')\n",
    "    algo.fit(trainset)\n",
    "    print(f'\\n Done... Time taken : {datetime.now() - start}')\n",
    "    \n",
    "    # ---------------- Evaluating train data--------------------#\n",
    "    st = datetime.now()\n",
    "    #print('\\n Evaluating the MODEL with TRAIN data..')\n",
    "    # get the train predictions (list of prediction class inside Surprise)\n",
    "    train_preds = algo.test(trainset.build_testset())\n",
    "    # get predicted ratings from the train predictions..\n",
    "    train_actual_ratings, train_pred_ratings = get_ratings(train_preds)\n",
    "    # get ''rmse'' and ''mape'' from the train predictions.\n",
    "    train_rmse, train_mape = get_errors(train_preds)\n",
    "    #print('time taken : {}'.format(datetime.now()-st))\n",
    "    \n",
    "    print(\"\\n\", '-'*45)\n",
    "    print('    ERROR ON TRAIN DATA')\n",
    "    print('-'*45)\n",
    "    print(f\"==> RMSE : {train_rmse}\\n==> MAPE : {train_mape}\\n\")\n",
    "    \n",
    "    train_results['rmse'] = train_rmse\n",
    "    train_results['mape'] = train_mape\n",
    "    train_results['predictions'] = train_pred_ratings\n",
    "    \n",
    "    \n",
    "    #------------ Evaluating Test data---------------#\n",
    "    #print('\\n Evaluating for TEST data...')\n",
    "    # get the predictions( list of prediction classes) of test data\n",
    "    test_preds = algo.test(testset)\n",
    "    # get the predicted ratings from the list of predictions\n",
    "    test_actual_ratings, test_pred_ratings = get_ratings(test_preds)\n",
    "    # get error metrics from the predicted and actual ratings\n",
    "    test_rmse, test_mape = get_errors(test_preds)\n",
    "    #print('time taken : {}'.format(datetime.now()-st))\n",
    "    \n",
    "    print(\"\\n\", '-'*45)\n",
    "    print('    ERROR ON TEST DATA')\n",
    "    print('-'*45)\n",
    "    print(f\"==> RMSE : {test_rmse}\\n==> MAPE : {test_mape}\\n\")\n",
    "    \n",
    "    print('\\n', '-'*45)\n",
    "    # store them in test dictionary\n",
    "    test_results['rmse'] = test_rmse\n",
    "    test_results['mape'] = test_mape\n",
    "    test_results['predictions'] = test_pred_ratings\n",
    "    \n",
    "    if cvset is not None:\n",
    "        cv_preds = algo.test(cvset)\n",
    "        cv_actual_ratings, cv_pred_ratings = get_ratings(cv_preds)\n",
    "        cv_rmse, cv_mape = get_errors(cv_preds)\n",
    "        \n",
    "        cv_results['rmse'] = cv_rmse\n",
    "        cv_results['mape'] = cv_mape\n",
    "        cv_results['predictions'] = cv_pred_ratings\n",
    "        \n",
    "        return train_results, test_results, cv_results\n",
    "    \n",
    "    \n",
    "    #print('Total time taken to run this algorithm :', datetime.now() - start)\n",
    "    \n",
    "    return train_results, test_results"
   ]
  },
  {
   "cell_type": "markdown",
   "metadata": {},
   "source": [
    "<h3> 4.4.1 XGBoost with initial 13 features </h3>"
   ]
  },
  {
   "cell_type": "code",
   "execution_count": 25,
   "metadata": {},
   "outputs": [],
   "source": [
    "# prepare Train data\n",
    "x_train = train_features_matrix.drop(['user','movie','rating'], axis=1)\n",
    "y_train = train_features_matrix['rating']\n",
    "\n",
    "# Prepare Test data\n",
    "x_cv = cv_features_matrix.drop(['user','movie','rating'], axis=1)\n",
    "y_cv = cv_features_matrix['rating']\n",
    "\n",
    "# Prepare Test data\n",
    "x_test = test_features_matrix.drop(['user','movie','rating'], axis=1)\n",
    "y_test = test_features_matrix['rating']"
   ]
  },
  {
   "cell_type": "code",
   "execution_count": 33,
   "metadata": {},
   "outputs": [
    {
     "data": {
      "image/png": "[encoded data removed]",
      "text/plain": [
       "<Figure size 1200x500 with 4 Axes>"
      ]
     },
     "metadata": {
      "needs_background": "light"
     },
     "output_type": "display_data"
    }
   ],
   "source": [
    "xgboost_cv(x_train, y_train, x_cv, y_cv, depth_vals=[2, 3, 4], n_trees=[50, 100, 200, 400])"
   ]
  },
  {
   "cell_type": "code",
   "execution_count": 26,
   "metadata": {},
   "outputs": [
    {
     "name": "stdout",
     "output_type": "stream",
     "text": [
      "\n",
      " Training the Model....\n",
      "\n",
      " Done... Time taken : 0:00:31.831187\n",
      "\n",
      " ---------------------------------------------\n",
      "    ERROR ON TRAIN DATA \n",
      "---------------------------------------------\n",
      "==> RMSE : 0.0007013816528051316\n",
      "==> MAPE : 0.00018563910364120074\n",
      "\n",
      " ---------------------------------------------\n",
      "    ERROR ON TEST DATA\n",
      "---------------------------------------------\n",
      "==> RMSE : 0.04652782831835677\n",
      "==> MAPE : 0.04354896352566887\n",
      "\n",
      " ---------------------------------------------\n"
     ]
    },
    {
     "data": {
      "image/png": "[encoded data removed]",
      "text/plain": [
       "<Figure size 432x288 with 1 Axes>"
      ]
     },
     "metadata": {
      "needs_background": "light"
     },
     "output_type": "display_data"
    }
   ],
   "source": [
    "models_evaluation_test['xgb_13f'] = run_xgbr(x_train, y_train, x_test, y_test, max_depth=3, n_trees=200)"
   ]
  },
  {
   "cell_type": "markdown",
   "metadata": {},
   "source": [
    "__SAMPLE OF PREDICTED RATINGS__"
   ]
  },
  {
   "cell_type": "code",
   "execution_count": 27,
   "metadata": {},
   "outputs": [
    {
     "data": {
      "text/html": [
       "<div>\n",
       "<style scoped>\n",
       "    .dataframe tbody tr th:only-of-type {\n",
       "        vertical-align: middle;\n",
       "    }\n",
       "\n",
       "    .dataframe tbody tr th {\n",
       "        vertical-align: top;\n",
       "    }\n",
       "\n",
       "    .dataframe thead th {\n",
       "        text-align: right;\n",
       "    }\n",
       "</style>\n",
       "<table border=\"1\" class=\"dataframe\">\n",
       "  <thead>\n",
       "    <tr style=\"text-align: right;\">\n",
       "      <th></th>\n",
       "      <th>PREDICTED</th>\n",
       "      <th>TRUE</th>\n",
       "    </tr>\n",
       "  </thead>\n",
       "  <tbody>\n",
       "    <tr>\n",
       "      <th>3512</th>\n",
       "      <td>4.000000</td>\n",
       "      <td>4.0</td>\n",
       "    </tr>\n",
       "    <tr>\n",
       "      <th>4881</th>\n",
       "      <td>2.999998</td>\n",
       "      <td>3.0</td>\n",
       "    </tr>\n",
       "    <tr>\n",
       "      <th>8166</th>\n",
       "      <td>2.999965</td>\n",
       "      <td>3.0</td>\n",
       "    </tr>\n",
       "    <tr>\n",
       "      <th>23368</th>\n",
       "      <td>2.999998</td>\n",
       "      <td>3.0</td>\n",
       "    </tr>\n",
       "    <tr>\n",
       "      <th>8715</th>\n",
       "      <td>3.999964</td>\n",
       "      <td>4.0</td>\n",
       "    </tr>\n",
       "    <tr>\n",
       "      <th>30130</th>\n",
       "      <td>3.999999</td>\n",
       "      <td>4.0</td>\n",
       "    </tr>\n",
       "    <tr>\n",
       "      <th>22109</th>\n",
       "      <td>2.999969</td>\n",
       "      <td>3.0</td>\n",
       "    </tr>\n",
       "    <tr>\n",
       "      <th>21169</th>\n",
       "      <td>2.999992</td>\n",
       "      <td>3.0</td>\n",
       "    </tr>\n",
       "    <tr>\n",
       "      <th>24188</th>\n",
       "      <td>4.000000</td>\n",
       "      <td>4.0</td>\n",
       "    </tr>\n",
       "    <tr>\n",
       "      <th>23086</th>\n",
       "      <td>4.000000</td>\n",
       "      <td>4.0</td>\n",
       "    </tr>\n",
       "  </tbody>\n",
       "</table>\n",
       "</div>"
      ],
      "text/plain": [
       "       PREDICTED  TRUE\n",
       "3512    4.000000   4.0\n",
       "4881    2.999998   3.0\n",
       "8166    2.999965   3.0\n",
       "23368   2.999998   3.0\n",
       "8715    3.999964   4.0\n",
       "30130   3.999999   4.0\n",
       "22109   2.999969   3.0\n",
       "21169   2.999992   3.0\n",
       "24188   4.000000   4.0\n",
       "23086   4.000000   4.0"
      ]
     },
     "execution_count": 27,
     "metadata": {},
     "output_type": "execute_result"
    }
   ],
   "source": [
    "pd.DataFrame(list(zip(models_evaluation_test['xgb_13f']['predictions'],\n",
    "                      test_features_matrix.rating.values)), columns=['PREDICTED', 'TRUE']).sample(10)"
   ]
  },
  {
   "cell_type": "markdown",
   "metadata": {},
   "source": [
    "__OBSERVATIONS__\n",
    "\n",
    "* Just the first model we built has performed remarkably well.\n",
    "* It has RMSE=0.046, which is very good."
   ]
  },
  {
   "cell_type": "markdown",
   "metadata": {},
   "source": [
    "<h3> 4.4.2 Suprise Baseline Model </h3>\n",
    "\n",
    "* [2.1 Baseline Estimates](http://courses.ischool.berkeley.edu/i290-dm/s11/SECURE/a1-koren.pdf)\n",
    "\n",
    "* The above paper says that the predicted rating $\\hat{r}_{ui}$ can be decomposed into the linear sum of three parts.\n",
    "\n",
    "* Then the model becomes a simple linear model."
   ]
  },
  {
   "cell_type": "markdown",
   "metadata": {},
   "source": [
    "__Predicted_rating : ( baseline prediction )__\n",
    "\n",
    "-  [BaselineOnly](http://surprise.readthedocs.io/en/stable/basic_algorithms.html#surprise.prediction_algorithms.baseline_only.BaselineOnly) \n",
    " > <font color='red'>$   \\large {\\hat{r}_{ui} = b_{ui} =\\mu + b_u + b_i} $</font>\n",
    "\n",
    "\n",
    "- $\\pmb \\mu $ : Average of all trainings in training data (constant)\n",
    "- $\\pmb b_u$ : User bias (to be found)\n",
    "- $\\pmb b_i$ : Item bias (movie biases) (to be found)\n",
    "\n",
    "\n",
    "__Optimization function : ( Least Squares Problem )__\n",
    "\n",
    "* [baselines-estimates-configuration](http://surprise.readthedocs.io/en/stable/prediction_algorithms.html#baselines-estimates-configuration)\n",
    "\n",
    "> <font color='red'>$ \\text {        [mimimize } {b_u, b_i  ]} \\large \\sum_{r_{ui} \\in R_{train}} \\left(r_{ui} - (\\mu + b_u + b_i)\\right)^2 +\n",
    "\\lambda \\left(b_u^2 + b_i^2 \\right)$ </font>"
   ]
  },
  {
   "cell_type": "code",
   "execution_count": 28,
   "metadata": {},
   "outputs": [],
   "source": [
    "from surprise import BaselineOnly"
   ]
  },
  {
   "cell_type": "code",
   "execution_count": 29,
   "metadata": {},
   "outputs": [
    {
     "name": "stdout",
     "output_type": "stream",
     "text": [
      "\n",
      " Training the MODEL...\n",
      "Estimating biases using sgd...\n",
      "\n",
      " Done... Time taken : 0:00:09.125946\n",
      "\n",
      " ---------------------------------------------\n",
      "    ERROR ON TRAIN DATA\n",
      "---------------------------------------------\n",
      "==> RMSE : 0.8977501343653875\n",
      "==> MAPE : 27.76021788506664\n",
      "\n",
      "\n",
      " ---------------------------------------------\n",
      "    ERROR ON TEST DATA\n",
      "---------------------------------------------\n",
      "==> RMSE : 1.0814854001132115\n",
      "==> MAPE : 33.84668643931904\n",
      "\n",
      "\n",
      " ---------------------------------------------\n"
     ]
    }
   ],
   "source": [
    "# options are to specify.., how to compute those user and item biases\n",
    "bsl_options = {'method' : 'sgd',\n",
    "               'learning_rate' : 0.005,\n",
    "               'n_epochs' : 50,\n",
    "               'reg':0.2}\n",
    "\n",
    "bsl_algo = BaselineOnly(bsl_options=bsl_options)\n",
    "# run this algorithm.., It will return the train and test results..\n",
    "bsl_train_results, bsl_test_results, bsl_cv_results = run_surprise(bsl_algo, Xtrain, Xtest, Xcv)\n",
    "\n",
    "\n",
    "# Just store these error metrics in our models_evaluation datastructure\n",
    "models_evaluation_train['bsl_algo'] = bsl_train_results\n",
    "models_evaluation_cv['bsl_algo'] = bsl_cv_results \n",
    "models_evaluation_test['bsl_algo'] = bsl_test_results"
   ]
  },
  {
   "cell_type": "markdown",
   "metadata": {},
   "source": [
    "__OBSERVATIONS__\n",
    "\n",
    "* Stating that, we've just used a linear model, the performance is awful.\n",
    "* The predicted value of each rating is just the global_average (GAvg)."
   ]
  },
  {
   "cell_type": "markdown",
   "metadata": {},
   "source": [
    "<h3> 4.4.3 XGBoost with initial 13 features + Surprise Baseline predictor </h3>"
   ]
  },
  {
   "cell_type": "markdown",
   "metadata": {},
   "source": [
    "__UPDATING DATA__"
   ]
  },
  {
   "cell_type": "code",
   "execution_count": 30,
   "metadata": {},
   "outputs": [],
   "source": [
    "# add our baseline_predicted value as our feature..\n",
    "train_features_matrix['bsl_pred'] = models_evaluation_train['bsl_algo']['predictions']\n",
    "test_features_matrix['bsl_pred'] = models_evaluation_test['bsl_algo']['predictions']\n",
    "cv_features_matrix['bsl_pred'] = models_evaluation_cv['bsl_algo']['predictions']"
   ]
  },
  {
   "cell_type": "code",
   "execution_count": 31,
   "metadata": {},
   "outputs": [
    {
     "data": {
      "text/html": [
       "<div>\n",
       "<style scoped>\n",
       "    .dataframe tbody tr th:only-of-type {\n",
       "        vertical-align: middle;\n",
       "    }\n",
       "\n",
       "    .dataframe tbody tr th {\n",
       "        vertical-align: top;\n",
       "    }\n",
       "\n",
       "    .dataframe thead th {\n",
       "        text-align: right;\n",
       "    }\n",
       "</style>\n",
       "<table border=\"1\" class=\"dataframe\">\n",
       "  <thead>\n",
       "    <tr style=\"text-align: right;\">\n",
       "      <th></th>\n",
       "      <th>user</th>\n",
       "      <th>movie</th>\n",
       "      <th>GAvg</th>\n",
       "      <th>sur1</th>\n",
       "      <th>sur2</th>\n",
       "      <th>sur3</th>\n",
       "      <th>sur4</th>\n",
       "      <th>sur5</th>\n",
       "      <th>smr1</th>\n",
       "      <th>smr2</th>\n",
       "      <th>smr3</th>\n",
       "      <th>smr4</th>\n",
       "      <th>smr5</th>\n",
       "      <th>UAvg</th>\n",
       "      <th>MAvg</th>\n",
       "      <th>rating</th>\n",
       "      <th>bsl_pred</th>\n",
       "    </tr>\n",
       "  </thead>\n",
       "  <tbody>\n",
       "    <tr>\n",
       "      <th>0</th>\n",
       "      <td>335030</td>\n",
       "      <td>43</td>\n",
       "      <td>3.57743</td>\n",
       "      <td>2.0</td>\n",
       "      <td>2.0</td>\n",
       "      <td>2.0</td>\n",
       "      <td>5.0</td>\n",
       "      <td>2.75</td>\n",
       "      <td>2.0</td>\n",
       "      <td>4.0</td>\n",
       "      <td>3.0</td>\n",
       "      <td>3.0</td>\n",
       "      <td>1.0</td>\n",
       "      <td>4.0604</td>\n",
       "      <td>2.75</td>\n",
       "      <td>2.0</td>\n",
       "      <td>3.436156</td>\n",
       "    </tr>\n",
       "    <tr>\n",
       "      <th>1</th>\n",
       "      <td>704642</td>\n",
       "      <td>43</td>\n",
       "      <td>3.57743</td>\n",
       "      <td>2.0</td>\n",
       "      <td>2.0</td>\n",
       "      <td>2.0</td>\n",
       "      <td>5.0</td>\n",
       "      <td>2.75</td>\n",
       "      <td>2.0</td>\n",
       "      <td>3.0</td>\n",
       "      <td>1.0</td>\n",
       "      <td>4.0</td>\n",
       "      <td>4.0</td>\n",
       "      <td>3.4956</td>\n",
       "      <td>2.75</td>\n",
       "      <td>2.0</td>\n",
       "      <td>4.330658</td>\n",
       "    </tr>\n",
       "  </tbody>\n",
       "</table>\n",
       "</div>"
      ],
      "text/plain": [
       "     user  movie     GAvg  sur1  sur2  sur3  sur4  sur5  smr1  smr2  smr3  \\\n",
       "0  335030     43  3.57743   2.0   2.0   2.0   5.0  2.75   2.0   4.0   3.0   \n",
       "1  704642     43  3.57743   2.0   2.0   2.0   5.0  2.75   2.0   3.0   1.0   \n",
       "\n",
       "   smr4  smr5    UAvg  MAvg  rating  bsl_pred  \n",
       "0   3.0   1.0  4.0604  2.75     2.0  3.436156  \n",
       "1   4.0   4.0  3.4956  2.75     2.0  4.330658  "
      ]
     },
     "execution_count": 31,
     "metadata": {},
     "output_type": "execute_result"
    }
   ],
   "source": [
    "train_features_matrix.head(2)"
   ]
  },
  {
   "cell_type": "code",
   "execution_count": 32,
   "metadata": {},
   "outputs": [
    {
     "data": {
      "text/html": [
       "<div>\n",
       "<style scoped>\n",
       "    .dataframe tbody tr th:only-of-type {\n",
       "        vertical-align: middle;\n",
       "    }\n",
       "\n",
       "    .dataframe tbody tr th {\n",
       "        vertical-align: top;\n",
       "    }\n",
       "\n",
       "    .dataframe thead th {\n",
       "        text-align: right;\n",
       "    }\n",
       "</style>\n",
       "<table border=\"1\" class=\"dataframe\">\n",
       "  <thead>\n",
       "    <tr style=\"text-align: right;\">\n",
       "      <th></th>\n",
       "      <th>user</th>\n",
       "      <th>movie</th>\n",
       "      <th>GAvg</th>\n",
       "      <th>sur1</th>\n",
       "      <th>sur2</th>\n",
       "      <th>sur3</th>\n",
       "      <th>sur4</th>\n",
       "      <th>sur5</th>\n",
       "      <th>smr1</th>\n",
       "      <th>smr2</th>\n",
       "      <th>smr3</th>\n",
       "      <th>smr4</th>\n",
       "      <th>smr5</th>\n",
       "      <th>UAvg</th>\n",
       "      <th>MAvg</th>\n",
       "      <th>rating</th>\n",
       "      <th>bsl_pred</th>\n",
       "    </tr>\n",
       "  </thead>\n",
       "  <tbody>\n",
       "    <tr>\n",
       "      <th>0</th>\n",
       "      <td>1307418</td>\n",
       "      <td>13</td>\n",
       "      <td>3.6698</td>\n",
       "      <td>4.0</td>\n",
       "      <td>4.0</td>\n",
       "      <td>4.0</td>\n",
       "      <td>4.0</td>\n",
       "      <td>4.0</td>\n",
       "      <td>4.0</td>\n",
       "      <td>4.0</td>\n",
       "      <td>3.0</td>\n",
       "      <td>3.0</td>\n",
       "      <td>4.0</td>\n",
       "      <td>3.6000</td>\n",
       "      <td>4.0</td>\n",
       "      <td>4.0</td>\n",
       "      <td>3.57743</td>\n",
       "    </tr>\n",
       "    <tr>\n",
       "      <th>1</th>\n",
       "      <td>442370</td>\n",
       "      <td>48</td>\n",
       "      <td>3.6698</td>\n",
       "      <td>4.0</td>\n",
       "      <td>5.0</td>\n",
       "      <td>5.0</td>\n",
       "      <td>4.0</td>\n",
       "      <td>5.0</td>\n",
       "      <td>4.0</td>\n",
       "      <td>5.0</td>\n",
       "      <td>5.0</td>\n",
       "      <td>5.0</td>\n",
       "      <td>4.0</td>\n",
       "      <td>4.1429</td>\n",
       "      <td>4.4</td>\n",
       "      <td>4.0</td>\n",
       "      <td>3.57743</td>\n",
       "    </tr>\n",
       "  </tbody>\n",
       "</table>\n",
       "</div>"
      ],
      "text/plain": [
       "      user  movie    GAvg  sur1  sur2  sur3  sur4  sur5  smr1  smr2  smr3  \\\n",
       "0  1307418     13  3.6698   4.0   4.0   4.0   4.0   4.0   4.0   4.0   3.0   \n",
       "1   442370     48  3.6698   4.0   5.0   5.0   4.0   5.0   4.0   5.0   5.0   \n",
       "\n",
       "   smr4  smr5    UAvg  MAvg  rating  bsl_pred  \n",
       "0   3.0   4.0  3.6000   4.0     4.0   3.57743  \n",
       "1   5.0   4.0  4.1429   4.4     4.0   3.57743  "
      ]
     },
     "execution_count": 32,
     "metadata": {},
     "output_type": "execute_result"
    }
   ],
   "source": [
    "test_features_matrix.head(2)"
   ]
  },
  {
   "cell_type": "code",
   "execution_count": 33,
   "metadata": {},
   "outputs": [],
   "source": [
    "# prepare Train data\n",
    "x_train = train_features_matrix.drop(['user','movie','rating'], axis=1)\n",
    "y_train = train_features_matrix['rating']\n",
    "\n",
    "# Prepare Test data\n",
    "x_cv = cv_features_matrix.drop(['user','movie','rating'], axis=1)\n",
    "y_cv = cv_features_matrix['rating']\n",
    "\n",
    "# Prepare Test data\n",
    "x_test = test_features_matrix.drop(['user','movie','rating'], axis=1)\n",
    "y_test = test_features_matrix['rating']"
   ]
  },
  {
   "cell_type": "code",
   "execution_count": 131,
   "metadata": {},
   "outputs": [
    {
     "data": {
      "image/png": "[encoded data removed]",
      "text/plain": [
       "<Figure size 1200x500 with 4 Axes>"
      ]
     },
     "metadata": {
      "needs_background": "light"
     },
     "output_type": "display_data"
    }
   ],
   "source": [
    "xgboost_cv(x_train, y_train, x_cv, y_cv, depth_vals=[2, 3, 4], n_trees=[50, 100, 200, 400])"
   ]
  },
  {
   "cell_type": "code",
   "execution_count": 34,
   "metadata": {},
   "outputs": [
    {
     "name": "stdout",
     "output_type": "stream",
     "text": [
      "\n",
      " Training the Model....\n",
      "\n",
      " Done... Time taken : 0:00:42.326152\n",
      "\n",
      " ---------------------------------------------\n",
      "    ERROR ON TRAIN DATA \n",
      "---------------------------------------------\n",
      "==> RMSE : 0.0005091955475571123\n",
      "==> MAPE : 0.0001729512422792165\n",
      "\n",
      " ---------------------------------------------\n",
      "    ERROR ON TEST DATA\n",
      "---------------------------------------------\n",
      "==> RMSE : 0.04652995651787225\n",
      "==> MAPE : 0.043519021198349786\n",
      "\n",
      " ---------------------------------------------\n"
     ]
    },
    {
     "data": {
      "image/png": "[encoded data removed]",
      "text/plain": [
       "<Figure size 432x288 with 1 Axes>"
      ]
     },
     "metadata": {
      "needs_background": "light"
     },
     "output_type": "display_data"
    }
   ],
   "source": [
    "models_evaluation_test['xgb_bsl'] = run_xgbr(x_train, y_train, x_test, y_test, max_depth=3, n_trees=200)"
   ]
  },
  {
   "cell_type": "markdown",
   "metadata": {},
   "source": [
    "<h3> 4.4.4 Surprise KNNBaseline predictor </h3>"
   ]
  },
  {
   "cell_type": "markdown",
   "metadata": {},
   "source": [
    "* [KNN BASELINE](http://surprise.readthedocs.io/en/stable/knn_inspired.html#surprise.prediction_algorithms.knns.KNNBaseline )\n",
    "\n",
    "* [PEARSON_BASELINE SIMILARITY](http://surprise.readthedocs.io/en/stable/similarities.html#surprise.similarities.pearson_baseline )\n",
    "    \n",
    "* [SHRINKAGE : 2.2 Neighborhood Models](http://courses.ischool.berkeley.edu/i290-dm/s11/SECURE/a1-koren.pdf)"
   ]
  },
  {
   "cell_type": "markdown",
   "metadata": {},
   "source": [
    "* __Predicted Rating__ : ( ___based on User-User similarity___ )\n",
    "\n",
    "\\begin{align} \\hat{r}_{ui} = b_{ui} + \\frac{ \\sum\\limits_{v \\in N^k_i(u)}\n",
    "\\text{sim}(u, v) \\cdot (r_{vi} - b_{vi})} {\\sum\\limits_{v \\in\n",
    "N^k_i(u)} \\text{sim}(u, v)} \\end{align}\n",
    "\n",
    "- $\\pmb{b_{ui}}$ -  Baseline prediction of (user,movie) rating\n",
    "- $ \\pmb {N_i^k (u)}$ - Set of __K similar__ users (neighbours) of __user (u)__ who rated __movie(i)__  \n",
    "- _sim (u, v)_ - __Similarity__ between users __u and v__  \n",
    "    - Generally, it will be cosine similarity or Pearson correlation coefficient. \n",
    "    - But we use __shrunk Pearson-baseline correlation coefficient__, which is based on the pearsonBaseline similarity ( we take base line predictions instead of mean rating of user/item)\n",
    "       \n",
    "      "
   ]
  },
  {
   "cell_type": "markdown",
   "metadata": {},
   "source": [
    "* __Predicted rating__ ( ___based on Item Item similarity___ ):\n",
    " \\begin{align} \\hat{r}_{ui} = b_{ui} + \\frac{ \\sum\\limits_{j \\in N^k_u(i)}\\text{sim}(i, j) \\cdot (r_{uj} - b_{uj})} {\\sum\\limits_{j \\in N^k_u(j)} \\text{sim}(i, j)} \\end{align}\n",
    "\n",
    "*  _Notations follows same as above (user user based predicted rating )_"
   ]
  },
  {
   "cell_type": "code",
   "execution_count": 46,
   "metadata": {},
   "outputs": [],
   "source": [
    "from surprise import KNNBaseline\n",
    "#import pickle"
   ]
  },
  {
   "cell_type": "markdown",
   "metadata": {},
   "source": [
    "  <h4> 4.4.4.1 Surprise KNNBaseline with user-user similarities</h4>"
   ]
  },
  {
   "cell_type": "code",
   "execution_count": 48,
   "metadata": {},
   "outputs": [
    {
     "name": "stdout",
     "output_type": "stream",
     "text": [
      "\n",
      " Training the MODEL...\n",
      "Estimating biases using sgd...\n",
      "Computing the pearson_baseline similarity matrix...\n",
      "Done computing similarity matrix.\n",
      "\n",
      " Done... Time taken : 1:45:05.604756\n",
      "\n",
      " ---------------------------------------------\n",
      "    ERROR ON TRAIN DATA\n",
      "---------------------------------------------\n",
      "==> RMSE : 0.3992990938535015\n",
      "==> MAPE : 11.16042640155627\n",
      "\n",
      "\n",
      " ---------------------------------------------\n",
      "    ERROR ON TEST DATA\n",
      "---------------------------------------------\n",
      "==> RMSE : 1.0821665691002005\n",
      "==> MAPE : 33.89942904886075\n",
      "\n",
      "\n",
      " ---------------------------------------------\n"
     ]
    }
   ],
   "source": [
    "# we specify , how to compute similarities and what to consider with sim_options to our algorithm\n",
    "sim_options = {'user_based' : True,\n",
    "               'name': 'pearson_baseline',\n",
    "               'shrinkage': 80,\n",
    "               'min_support': 4\n",
    "              } \n",
    "# we keep other parameters like regularization parameter and learning_rate as default values.\n",
    "bsl_options = {'method': 'sgd'} \n",
    "\n",
    "knn_bsl_user = KNNBaseline(k=20, sim_options = sim_options, bsl_options = bsl_options)\n",
    "knn_bsl_u_train_results, knn_bsl_u_test_results, knn_bsl_u_cv_results = run_surprise(knn_bsl_user, Xtrain, Xtest, Xcv)\n",
    "\n",
    "\n",
    "models_evaluation_train['knn_bsl_user'] = knn_bsl_u_train_results\n",
    "models_evaluation_cv['knn_bsl_user'] = knn_bsl_u_cv_results \n",
    "models_evaluation_test['knn_bsl_user'] = knn_bsl_u_test_results"
   ]
  },
  {
   "cell_type": "markdown",
   "metadata": {},
   "source": [
    "<h4> 4.4.4.2 Surprise KNNBaseline with movie movie similarities</h4>"
   ]
  },
  {
   "cell_type": "code",
   "execution_count": 37,
   "metadata": {},
   "outputs": [
    {
     "name": "stdout",
     "output_type": "stream",
     "text": [
      "\n",
      " Training the MODEL...\n",
      "Estimating biases using sgd...\n",
      "Computing the pearson_baseline similarity matrix...\n",
      "Done computing similarity matrix.\n",
      "\n",
      " Done... Time taken : 0:00:18.781476\n",
      "\n",
      " ---------------------------------------------\n",
      "    ERROR ON TRAIN DATA\n",
      "---------------------------------------------\n",
      "==> RMSE : 0.49694880275350806\n",
      "==> MAPE : 13.933879680328747\n",
      "\n",
      "\n",
      " ---------------------------------------------\n",
      "    ERROR ON TEST DATA\n",
      "---------------------------------------------\n",
      "==> RMSE : 1.082961609120101\n",
      "==> MAPE : 33.921341863785074\n",
      "\n",
      "\n",
      " ---------------------------------------------\n"
     ]
    }
   ],
   "source": [
    "# we specify , how to compute similarities and what to consider with sim_options to our algorithm\n",
    "\n",
    "# 'user_based' : Fals => this considers the similarities of movies instead of users\n",
    "\n",
    "sim_options = {'user_based' : False,\n",
    "               'name': 'pearson_baseline',\n",
    "               'shrinkage': 100,\n",
    "               'min_support': 5\n",
    "              } \n",
    "# we keep other parameters like regularization parameter and learning_rate as default values.\n",
    "bsl_options = {'method': 'sgd'}\n",
    "\n",
    "\n",
    "knn_bsl_m = KNNBaseline(k=40, sim_options = sim_options, bsl_options = bsl_options, verbose=True)\n",
    "\n",
    "knn_bsl_m_train_results, knn_bsl_m_test_results, knn_bsl_m_cv_results = run_surprise(knn_bsl_m, Xtrain, Xtest, Xcv)\n",
    "\n",
    "# Just store these error metrics in our models_evaluation datastructure\n",
    "#models_evaluation_train['knn_bsl_m'] = knn_bsl_m_train_results \n",
    "models_evaluation_train['knn_bsl_movie'] = knn_bsl_m_train_results\n",
    "models_evaluation_cv['knn_bsl_movie'] = knn_bsl_m_cv_results \n",
    "models_evaluation_test['knn_bsl_movie'] = knn_bsl_m_test_results\n"
   ]
  },
  {
   "cell_type": "markdown",
   "metadata": {},
   "source": [
    "<h3> 4.4.5 XGBoost with initial 13 features + Surprise Baseline predictor + KNNBaseline predictor </h3>\n",
    "\n",
    "* First we will run XGBoost with predictions from both KNN's (that uses User_User and Item_Item similarities along with our previous features).\n",
    "\n",
    " \n",
    "* Then we will run XGBoost with just predictions from both knn models and predictions from our baseline model. "
   ]
  },
  {
   "cell_type": "code",
   "execution_count": 49,
   "metadata": {},
   "outputs": [],
   "source": [
    "# add our baseline_predicted value as our feature..\n",
    "train_features_matrix['knn_bsl_movie'] = models_evaluation_train['knn_bsl_movie']['predictions']\n",
    "test_features_matrix['knn_bsl_movie'] = models_evaluation_test['knn_bsl_movie']['predictions']\n",
    "cv_features_matrix['knn_bsl_movie'] = models_evaluation_cv['knn_bsl_movie']['predictions']"
   ]
  },
  {
   "cell_type": "code",
   "execution_count": 50,
   "metadata": {},
   "outputs": [],
   "source": [
    "# add our baseline_predicted value as our feature..\n",
    "train_features_matrix['knn_bsl_user'] = models_evaluation_train['knn_bsl_user']['predictions']\n",
    "test_features_matrix['knn_bsl_user'] = models_evaluation_test['knn_bsl_user']['predictions']\n",
    "cv_features_matrix['knn_bsl_user'] = models_evaluation_cv['knn_bsl_user']['predictions']"
   ]
  },
  {
   "cell_type": "code",
   "execution_count": 51,
   "metadata": {},
   "outputs": [],
   "source": [
    "# prepare Train data\n",
    "x_train = train_features_matrix.drop(['user','movie','rating'], axis=1)\n",
    "y_train = train_features_matrix['rating']\n",
    "\n",
    "# Prepare Test data\n",
    "x_test = test_features_matrix.drop(['user','movie','rating'], axis=1)\n",
    "y_test = test_features_matrix['rating']\n",
    "\n",
    "# Prepare CV data\n",
    "x_cv = cv_features_matrix.drop(['user','movie','rating'], axis=1)\n",
    "y_cv = cv_features_matrix['rating']"
   ]
  },
  {
   "cell_type": "code",
   "execution_count": 53,
   "metadata": {},
   "outputs": [
    {
     "data": {
      "image/png": "[encoded data removed]",
      "text/plain": [
       "<Figure size 1200x500 with 4 Axes>"
      ]
     },
     "metadata": {
      "needs_background": "light"
     },
     "output_type": "display_data"
    }
   ],
   "source": [
    "xgboost_cv(x_train, y_train, x_cv, y_cv, depth_vals=[2, 3, 4], n_trees=[50, 100, 200, 400])"
   ]
  },
  {
   "cell_type": "code",
   "execution_count": 54,
   "metadata": {},
   "outputs": [
    {
     "name": "stdout",
     "output_type": "stream",
     "text": [
      "\n",
      " Training the Model....\n",
      "\n",
      " Done... Time taken : 0:00:43.973760\n",
      "\n",
      " ---------------------------------------------\n",
      "    ERROR ON TRAIN DATA \n",
      "---------------------------------------------\n",
      "==> RMSE : 0.0005091955475571123\n",
      "==> MAPE : 0.0001729512422792165\n",
      "\n",
      " ---------------------------------------------\n",
      "    ERROR ON TEST DATA\n",
      "---------------------------------------------\n",
      "==> RMSE : 0.04652995651787225\n",
      "==> MAPE : 0.043519021198349786\n",
      "\n",
      " ---------------------------------------------\n"
     ]
    },
    {
     "data": {
      "image/png": "[encoded data removed]",
      "text/plain": [
       "<Figure size 432x288 with 1 Axes>"
      ]
     },
     "metadata": {
      "needs_background": "light"
     },
     "output_type": "display_data"
    }
   ],
   "source": [
    "models_evaluation_test['xgb_knn_bsl'] = run_xgbr(x_train, y_train, x_test, y_test, max_depth=3, n_trees=200)"
   ]
  },
  {
   "cell_type": "markdown",
   "metadata": {},
   "source": [
    "<h3> 4.4.6 Matrix Factorization Techniques </h3>"
   ]
  },
  {
   "cell_type": "markdown",
   "metadata": {},
   "source": [
    "<h4> 4.4.6.1 SVD Matrix Factorization User Movie intractions </h4>"
   ]
  },
  {
   "cell_type": "markdown",
   "metadata": {},
   "source": [
    "* [Surprise SVD](http://surprise.readthedocs.io/en/stable/matrix_factorization.html#surprise.prediction_algorithms.matrix_factorization.SVD )\n",
    "\n",
    "* __Predicted Rating :__\n",
    "    - <font color='red'>$ \\large  \\hat r_{ui} = \\mu + b_u + b_i + q_i^Tp_u $</font>\n",
    "    \n",
    "        - $\\pmb q_i$ - Representation of item(movie) in latent factor space\n",
    "        \n",
    "        - $\\pmb p_u$ - Representation of user in new latent factor space\n",
    "    "
   ]
  },
  {
   "cell_type": "markdown",
   "metadata": {},
   "source": [
    "* [BASIC MATRIX FACTORIZATION MODEL](https://datajobs.com/data-science-repo/Recommender-Systems-[Netflix].pdf)\n",
    "\n",
    "* __Optimization problem with user item interactions and regularization (to avoid overfitting)__\n",
    "    - <font color='red'>$\\large \\sum_{r_{ui} \\in R_{train}} \\left(r_{ui} - \\hat{r}_{ui} \\right)^2 +\n",
    "\\lambda\\left(b_i^2 + b_u^2 + ||q_i||^2 + ||p_u||^2\\right) $</font>"
   ]
  },
  {
   "cell_type": "code",
   "execution_count": 39,
   "metadata": {},
   "outputs": [],
   "source": [
    "from surprise import SVD"
   ]
  },
  {
   "cell_type": "code",
   "execution_count": 40,
   "metadata": {},
   "outputs": [
    {
     "name": "stdout",
     "output_type": "stream",
     "text": [
      "\n",
      " Training the MODEL...\n",
      "\n",
      " Done... Time taken : 0:01:12.344146\n",
      "\n",
      " ---------------------------------------------\n",
      "    ERROR ON TRAIN DATA\n",
      "---------------------------------------------\n",
      "==> RMSE : 0.5430037568556342\n",
      "==> MAPE : 15.698544815324933\n",
      "\n",
      "\n",
      " ---------------------------------------------\n",
      "    ERROR ON TEST DATA\n",
      "---------------------------------------------\n",
      "==> RMSE : 1.082703202247956\n",
      "==> MAPE : 33.871274389101316\n",
      "\n",
      "\n",
      " ---------------------------------------------\n"
     ]
    }
   ],
   "source": [
    "# initiallize the model\n",
    "svd = SVD(n_factors=100, biased=True, random_state=15, n_epochs=30)\n",
    "svd_train_results, svd_test_results, svd_cv_results = run_surprise(svd, Xtrain, Xtest, Xcv)\n",
    "\n",
    "# Just store these error metrics in our models_evaluation datastructure\n",
    "models_evaluation_train['svd'] = svd_train_results \n",
    "models_evaluation_test['svd'] = svd_test_results\n",
    "models_evaluation_cv['svd'] = svd_cv_results"
   ]
  },
  {
   "cell_type": "markdown",
   "metadata": {},
   "source": [
    "  <h4> 4.4.6.2 SVD Matrix Factorization with implicit feedback from user ( user rated movies ) </h4>"
   ]
  },
  {
   "cell_type": "markdown",
   "metadata": {},
   "source": [
    "* [2.5 : SVD with Implicit Feedback](http://courses.ischool.berkeley.edu/i290-dm/s11/SECURE/a1-koren.pdf)\n",
    "\n",
    "* __Predicted Rating :__\n",
    "    - <font color='red'>$ \\large \\hat{r}_{ui} = \\mu + b_u + b_i + q_i^T\\left(p_u +\n",
    "    |I_u|^{-\\frac{1}{2}} \\sum_{j \\in I_u}y_j\\right) $</font> \n",
    "    \n",
    "        - $ \\pmb{I_u}$ --- the set of all items rated by user u\n",
    "        - $\\pmb{y_j}$ --- Our new set of item factors that capture implicit ratings.  "
   ]
  },
  {
   "cell_type": "markdown",
   "metadata": {},
   "source": [
    "* __Optimization problem with user item interactions and regularization (to avoid overfitting)__\n",
    "\n",
    "    - <font color='red'>$ \\large \\sum_{r_{ui} \\in R_{train}} \\left(r_{ui} - \\hat{r}_{ui} \\right)^2 +\n",
    "\\lambda\\left(b_i^2 + b_u^2 + ||q_i||^2 + ||p_u||^2 + ||y_j||^2\\right) $ </font>"
   ]
  },
  {
   "cell_type": "code",
   "execution_count": 41,
   "metadata": {},
   "outputs": [],
   "source": [
    "from surprise import SVDpp"
   ]
  },
  {
   "cell_type": "code",
   "execution_count": 43,
   "metadata": {},
   "outputs": [
    {
     "name": "stdout",
     "output_type": "stream",
     "text": [
      "\n",
      " Training the MODEL...\n",
      " processing epoch 0\n",
      " processing epoch 1\n",
      " processing epoch 2\n",
      " processing epoch 3\n",
      " processing epoch 4\n",
      " processing epoch 5\n",
      " processing epoch 6\n",
      " processing epoch 7\n",
      " processing epoch 8\n",
      " processing epoch 9\n",
      " processing epoch 10\n",
      " processing epoch 11\n",
      " processing epoch 12\n",
      " processing epoch 13\n",
      " processing epoch 14\n",
      " processing epoch 15\n",
      " processing epoch 16\n",
      " processing epoch 17\n",
      " processing epoch 18\n",
      " processing epoch 19\n",
      "\n",
      " Done... Time taken : 0:49:11.616042\n",
      "\n",
      " ---------------------------------------------\n",
      "    ERROR ON TRAIN DATA\n",
      "---------------------------------------------\n",
      "==> RMSE : 0.57429632267897\n",
      "==> MAPE : 16.519897534707354\n",
      "\n",
      "\n",
      " ---------------------------------------------\n",
      "    ERROR ON TEST DATA\n",
      "---------------------------------------------\n",
      "==> RMSE : 1.0823897742251258\n",
      "==> MAPE : 33.871040025290874\n",
      "\n",
      "\n",
      " ---------------------------------------------\n"
     ]
    }
   ],
   "source": [
    "# initiallize the model\n",
    "svdpp = SVDpp(n_factors=100, random_state=15, verbose=True)\n",
    "svdpp_train_results, svdpp_test_results, svdpp_cv_results = run_surprise(svdpp, Xtrain, Xtest, Xcv)\n",
    "\n",
    "# Just store these error metrics in our models_evaluation datastructure\n",
    "models_evaluation_train['svdpp'] = svdpp_train_results\n",
    "models_evaluation_cv['svdpp'] = svdpp_cv_results\n",
    "models_evaluation_test['svdpp'] = svdpp_test_results"
   ]
  },
  {
   "cell_type": "markdown",
   "metadata": {},
   "source": [
    "<h3> 4.4.7 XgBoost with 13 features + Surprise Baseline + Surprise KNNbaseline + MF Techniques </h3>"
   ]
  },
  {
   "cell_type": "markdown",
   "metadata": {},
   "source": [
    "__UPDATING DATA__"
   ]
  },
  {
   "cell_type": "code",
   "execution_count": 58,
   "metadata": {},
   "outputs": [],
   "source": [
    "# add our baseline_predicted value as our feature..\n",
    "train_features_matrix['svd_pred'] = models_evaluation_train['svd']['predictions']\n",
    "test_features_matrix['svd_pred'] = models_evaluation_test['svd']['predictions']\n",
    "cv_features_matrix['svd_pred'] = models_evaluation_cv['svd']['predictions']"
   ]
  },
  {
   "cell_type": "code",
   "execution_count": 59,
   "metadata": {},
   "outputs": [],
   "source": [
    "# add our baseline_predicted value as our feature..\n",
    "train_features_matrix['svdpp_pred'] = models_evaluation_train['svdpp']['predictions']\n",
    "test_features_matrix['svdpp_pred'] = models_evaluation_test['svdpp']['predictions']\n",
    "cv_features_matrix['svdpp_pred'] = models_evaluation_cv['svdpp']['predictions']"
   ]
  },
  {
   "cell_type": "code",
   "execution_count": 60,
   "metadata": {},
   "outputs": [
    {
     "data": {
      "text/html": [
       "<div>\n",
       "<style scoped>\n",
       "    .dataframe tbody tr th:only-of-type {\n",
       "        vertical-align: middle;\n",
       "    }\n",
       "\n",
       "    .dataframe tbody tr th {\n",
       "        vertical-align: top;\n",
       "    }\n",
       "\n",
       "    .dataframe thead th {\n",
       "        text-align: right;\n",
       "    }\n",
       "</style>\n",
       "<table border=\"1\" class=\"dataframe\">\n",
       "  <thead>\n",
       "    <tr style=\"text-align: right;\">\n",
       "      <th></th>\n",
       "      <th>user</th>\n",
       "      <th>movie</th>\n",
       "      <th>GAvg</th>\n",
       "      <th>sur1</th>\n",
       "      <th>sur2</th>\n",
       "      <th>sur3</th>\n",
       "      <th>sur4</th>\n",
       "      <th>sur5</th>\n",
       "      <th>smr1</th>\n",
       "      <th>smr2</th>\n",
       "      <th>...</th>\n",
       "      <th>smr4</th>\n",
       "      <th>smr5</th>\n",
       "      <th>UAvg</th>\n",
       "      <th>MAvg</th>\n",
       "      <th>rating</th>\n",
       "      <th>bsl_pred</th>\n",
       "      <th>knn_bsl_movie</th>\n",
       "      <th>knn_bsl_user</th>\n",
       "      <th>svd_pred</th>\n",
       "      <th>svdpp_pred</th>\n",
       "    </tr>\n",
       "  </thead>\n",
       "  <tbody>\n",
       "    <tr>\n",
       "      <th>0</th>\n",
       "      <td>335030</td>\n",
       "      <td>43</td>\n",
       "      <td>3.57743</td>\n",
       "      <td>2.0</td>\n",
       "      <td>2.0</td>\n",
       "      <td>2.0</td>\n",
       "      <td>5.0</td>\n",
       "      <td>2.75</td>\n",
       "      <td>2.0</td>\n",
       "      <td>4.0</td>\n",
       "      <td>...</td>\n",
       "      <td>3.0</td>\n",
       "      <td>1.0</td>\n",
       "      <td>4.0604</td>\n",
       "      <td>2.75</td>\n",
       "      <td>2.0</td>\n",
       "      <td>3.436156</td>\n",
       "      <td>2.000000</td>\n",
       "      <td>2.140806</td>\n",
       "      <td>2.708405</td>\n",
       "      <td>2.769889</td>\n",
       "    </tr>\n",
       "    <tr>\n",
       "      <th>1</th>\n",
       "      <td>704642</td>\n",
       "      <td>43</td>\n",
       "      <td>3.57743</td>\n",
       "      <td>2.0</td>\n",
       "      <td>2.0</td>\n",
       "      <td>2.0</td>\n",
       "      <td>5.0</td>\n",
       "      <td>2.75</td>\n",
       "      <td>2.0</td>\n",
       "      <td>3.0</td>\n",
       "      <td>...</td>\n",
       "      <td>4.0</td>\n",
       "      <td>4.0</td>\n",
       "      <td>3.4956</td>\n",
       "      <td>2.75</td>\n",
       "      <td>2.0</td>\n",
       "      <td>4.330658</td>\n",
       "      <td>4.902851</td>\n",
       "      <td>4.845939</td>\n",
       "      <td>4.662842</td>\n",
       "      <td>4.566737</td>\n",
       "    </tr>\n",
       "  </tbody>\n",
       "</table>\n",
       "<p>2 rows × 21 columns</p>\n",
       "</div>"
      ],
      "text/plain": [
       "     user  movie     GAvg  sur1  sur2  sur3  sur4  sur5  smr1  smr2  \\\n",
       "0  335030     43  3.57743   2.0   2.0   2.0   5.0  2.75   2.0   4.0   \n",
       "1  704642     43  3.57743   2.0   2.0   2.0   5.0  2.75   2.0   3.0   \n",
       "\n",
       "      ...      smr4  smr5    UAvg  MAvg  rating  bsl_pred  knn_bsl_movie  \\\n",
       "0     ...       3.0   1.0  4.0604  2.75     2.0  3.436156       2.000000   \n",
       "1     ...       4.0   4.0  3.4956  2.75     2.0  4.330658       4.902851   \n",
       "\n",
       "   knn_bsl_user  svd_pred  svdpp_pred  \n",
       "0      2.140806  2.708405    2.769889  \n",
       "1      4.845939  4.662842    4.566737  \n",
       "\n",
       "[2 rows x 21 columns]"
      ]
     },
     "execution_count": 60,
     "metadata": {},
     "output_type": "execute_result"
    }
   ],
   "source": [
    "train_features_matrix.head(2)"
   ]
  },
  {
   "cell_type": "code",
   "execution_count": 61,
   "metadata": {},
   "outputs": [],
   "source": [
    "# prepare Train data\n",
    "x_train = train_features_matrix.drop(['user','movie','rating'], axis=1)\n",
    "y_train = train_features_matrix['rating']\n",
    "\n",
    "# Prepare Test data\n",
    "x_test = test_features_matrix.drop(['user','movie','rating'], axis=1)\n",
    "y_test = test_features_matrix['rating']\n",
    "\n",
    "# Prepare CV data\n",
    "x_cv = cv_features_matrix.drop(['user','movie','rating'], axis=1)\n",
    "y_cv = cv_features_matrix['rating']"
   ]
  },
  {
   "cell_type": "code",
   "execution_count": 62,
   "metadata": {},
   "outputs": [
    {
     "data": {
      "image/png": "[encoded data removed]",
      "text/plain": [
       "<Figure size 1200x500 with 4 Axes>"
      ]
     },
     "metadata": {
      "needs_background": "light"
     },
     "output_type": "display_data"
    }
   ],
   "source": [
    "xgboost_cv(x_train, y_train, x_cv, y_cv, depth_vals=[2, 3, 4], n_trees=[50, 100, 200, 400])"
   ]
  },
  {
   "cell_type": "code",
   "execution_count": 63,
   "metadata": {},
   "outputs": [
    {
     "name": "stdout",
     "output_type": "stream",
     "text": [
      "\n",
      " Training the Model....\n",
      "\n",
      " Done... Time taken : 0:01:12.124753\n",
      "\n",
      " ---------------------------------------------\n",
      "    ERROR ON TRAIN DATA \n",
      "---------------------------------------------\n",
      "==> RMSE : 0.0005091955475571123\n",
      "==> MAPE : 0.0001729512422792165\n",
      "\n",
      " ---------------------------------------------\n",
      "    ERROR ON TEST DATA\n",
      "---------------------------------------------\n",
      "==> RMSE : 0.04652995651787225\n",
      "==> MAPE : 0.043519021198349786\n",
      "\n",
      " ---------------------------------------------\n"
     ]
    },
    {
     "data": {
      "image/png": "[encoded data removed]",
      "text/plain": [
       "<Figure size 432x288 with 1 Axes>"
      ]
     },
     "metadata": {
      "needs_background": "light"
     },
     "output_type": "display_data"
    }
   ],
   "source": [
    "models_evaluation_test['xgb_final'] = run_xgbr(x_train, y_train, x_test, y_test, max_depth=3, n_trees=200)"
   ]
  },
  {
   "cell_type": "markdown",
   "metadata": {},
   "source": [
    "<h3> 4.4.8 XgBoost with Surprise Baseline + Surprise KNNbaseline + MF Techniques </h3>"
   ]
  },
  {
   "cell_type": "code",
   "execution_count": 64,
   "metadata": {},
   "outputs": [],
   "source": [
    "# prepare train data\n",
    "x_train = train_features_matrix[['knn_bsl_user', 'knn_bsl_movie', 'svd_pred', 'svdpp_pred']]\n",
    "y_train = train_features_matrix['rating']\n",
    "\n",
    "# test data\n",
    "x_test = test_features_matrix[['knn_bsl_user', 'knn_bsl_movie', 'svd_pred', 'svdpp_pred']]\n",
    "y_test = test_features_matrix['rating']\n",
    "\n",
    "# cv data\n",
    "x_cv = cv_features_matrix[['knn_bsl_user', 'knn_bsl_movie', 'svd_pred', 'svdpp_pred']]\n",
    "y_cv = cv_features_matrix['rating']"
   ]
  },
  {
   "cell_type": "code",
   "execution_count": 65,
   "metadata": {},
   "outputs": [
    {
     "data": {
      "image/png": "[encoded data removed]",
      "text/plain": [
       "<Figure size 1200x500 with 4 Axes>"
      ]
     },
     "metadata": {
      "needs_background": "light"
     },
     "output_type": "display_data"
    }
   ],
   "source": [
    "xgboost_cv(x_train, y_train, x_cv, y_cv, depth_vals=[2, 3, 4], n_trees=[50, 100, 200, 400])"
   ]
  },
  {
   "cell_type": "code",
   "execution_count": 66,
   "metadata": {},
   "outputs": [
    {
     "name": "stdout",
     "output_type": "stream",
     "text": [
      "\n",
      " Training the Model....\n",
      "\n",
      " Done... Time taken : 0:01:32.948371\n",
      "\n",
      " ---------------------------------------------\n",
      "    ERROR ON TRAIN DATA \n",
      "---------------------------------------------\n",
      "==> RMSE : 1.0756636625272098\n",
      "==> MAPE : 35.343392804381565\n",
      "\n",
      " ---------------------------------------------\n",
      "    ERROR ON TEST DATA\n",
      "---------------------------------------------\n",
      "==> RMSE : 1.0891805123744445\n",
      "==> MAPE : 34.32695975890435\n",
      "\n",
      " ---------------------------------------------\n"
     ]
    },
    {
     "data": {
      "image/png": "[encoded data removed]",
      "text/plain": [
       "<Figure size 432x288 with 1 Axes>"
      ]
     },
     "metadata": {
      "needs_background": "light"
     },
     "output_type": "display_data"
    }
   ],
   "source": [
    "models_evaluation_test['xgb_all_models'] = run_xgbr(x_train, y_train, x_test, y_test, max_depth=4, n_trees=400)"
   ]
  },
  {
   "cell_type": "markdown",
   "metadata": {},
   "source": [
    "<h2> 4.5 Comparision between all models </h2>"
   ]
  },
  {
   "cell_type": "code",
   "execution_count": 69,
   "metadata": {},
   "outputs": [],
   "source": [
    "# Saving our TEST_RESULTS into a dataframe so that you don't have to run it again\n",
    "pd.DataFrame(models_evaluation_test).to_csv('small_sample_results.csv')\n",
    "models = pd.read_csv('small_sample_results.csv', index_col=0)"
   ]
  },
  {
   "cell_type": "code",
   "execution_count": 108,
   "metadata": {},
   "outputs": [
    {
     "data": {
      "text/html": [
       "<div>\n",
       "<style scoped>\n",
       "    .dataframe tbody tr th:only-of-type {\n",
       "        vertical-align: middle;\n",
       "    }\n",
       "\n",
       "    .dataframe tbody tr th {\n",
       "        vertical-align: top;\n",
       "    }\n",
       "\n",
       "    .dataframe thead th {\n",
       "        text-align: right;\n",
       "    }\n",
       "</style>\n",
       "<table border=\"1\" class=\"dataframe\">\n",
       "  <thead>\n",
       "    <tr style=\"text-align: right;\">\n",
       "      <th></th>\n",
       "      <th>rmse</th>\n",
       "    </tr>\n",
       "  </thead>\n",
       "  <tbody>\n",
       "    <tr>\n",
       "      <th>xgb_13f</th>\n",
       "      <td>0.04652782831835677</td>\n",
       "    </tr>\n",
       "    <tr>\n",
       "      <th>xgb_bsl</th>\n",
       "      <td>0.04652995651787225</td>\n",
       "    </tr>\n",
       "    <tr>\n",
       "      <th>xgb_knn_bsl</th>\n",
       "      <td>0.04652995651787225</td>\n",
       "    </tr>\n",
       "    <tr>\n",
       "      <th>xgb_final</th>\n",
       "      <td>0.04652995651787225</td>\n",
       "    </tr>\n",
       "    <tr>\n",
       "      <th>bsl_algo</th>\n",
       "      <td>1.0814854001132115</td>\n",
       "    </tr>\n",
       "    <tr>\n",
       "      <th>knn_bsl_user</th>\n",
       "      <td>1.0821665691002005</td>\n",
       "    </tr>\n",
       "    <tr>\n",
       "      <th>svdpp</th>\n",
       "      <td>1.0823897742251258</td>\n",
       "    </tr>\n",
       "    <tr>\n",
       "      <th>svd</th>\n",
       "      <td>1.082703202247956</td>\n",
       "    </tr>\n",
       "    <tr>\n",
       "      <th>knn_bsl_movie</th>\n",
       "      <td>1.082961609120101</td>\n",
       "    </tr>\n",
       "    <tr>\n",
       "      <th>xgb_all_models</th>\n",
       "      <td>1.0891805123744445</td>\n",
       "    </tr>\n",
       "  </tbody>\n",
       "</table>\n",
       "</div>"
      ],
      "text/plain": [
       "                               rmse\n",
       "xgb_13f         0.04652782831835677\n",
       "xgb_bsl         0.04652995651787225\n",
       "xgb_knn_bsl     0.04652995651787225\n",
       "xgb_final       0.04652995651787225\n",
       "bsl_algo         1.0814854001132115\n",
       "knn_bsl_user     1.0821665691002005\n",
       "svdpp            1.0823897742251258\n",
       "svd               1.082703202247956\n",
       "knn_bsl_movie     1.082961609120101\n",
       "xgb_all_models   1.0891805123744445"
      ]
     },
     "execution_count": 108,
     "metadata": {},
     "output_type": "execute_result"
    }
   ],
   "source": [
    "pd.DataFrame(models.loc['rmse'].sort_values())"
   ]
  },
  {
   "cell_type": "code",
   "execution_count": 121,
   "metadata": {},
   "outputs": [
    {
     "data": {
      "text/html": [
       "<div>\n",
       "<style scoped>\n",
       "    .dataframe tbody tr th:only-of-type {\n",
       "        vertical-align: middle;\n",
       "    }\n",
       "\n",
       "    .dataframe tbody tr th {\n",
       "        vertical-align: top;\n",
       "    }\n",
       "\n",
       "    .dataframe thead th {\n",
       "        text-align: right;\n",
       "    }\n",
       "</style>\n",
       "<table border=\"1\" class=\"dataframe\">\n",
       "  <thead>\n",
       "    <tr style=\"text-align: right;\">\n",
       "      <th></th>\n",
       "      <th>TRUE</th>\n",
       "      <th>xgb_13f_pred</th>\n",
       "      <th>xgb_all_models_pred</th>\n",
       "      <th>svd_pred</th>\n",
       "      <th>svdpp_pred</th>\n",
       "    </tr>\n",
       "  </thead>\n",
       "  <tbody>\n",
       "    <tr>\n",
       "      <th>30535</th>\n",
       "      <td>4.0</td>\n",
       "      <td>4.000000</td>\n",
       "      <td>3.584542</td>\n",
       "      <td>3.577430</td>\n",
       "      <td>3.577430</td>\n",
       "    </tr>\n",
       "    <tr>\n",
       "      <th>23615</th>\n",
       "      <td>3.0</td>\n",
       "      <td>2.999999</td>\n",
       "      <td>3.584542</td>\n",
       "      <td>3.577430</td>\n",
       "      <td>3.577430</td>\n",
       "    </tr>\n",
       "    <tr>\n",
       "      <th>20935</th>\n",
       "      <td>5.0</td>\n",
       "      <td>4.999998</td>\n",
       "      <td>3.581991</td>\n",
       "      <td>4.082744</td>\n",
       "      <td>4.001245</td>\n",
       "    </tr>\n",
       "    <tr>\n",
       "      <th>23350</th>\n",
       "      <td>1.0</td>\n",
       "      <td>1.000001</td>\n",
       "      <td>3.584542</td>\n",
       "      <td>3.577430</td>\n",
       "      <td>3.577430</td>\n",
       "    </tr>\n",
       "    <tr>\n",
       "      <th>13846</th>\n",
       "      <td>4.0</td>\n",
       "      <td>4.000000</td>\n",
       "      <td>3.584542</td>\n",
       "      <td>3.577430</td>\n",
       "      <td>3.577430</td>\n",
       "    </tr>\n",
       "    <tr>\n",
       "      <th>11239</th>\n",
       "      <td>5.0</td>\n",
       "      <td>4.999994</td>\n",
       "      <td>3.584542</td>\n",
       "      <td>3.577430</td>\n",
       "      <td>3.577430</td>\n",
       "    </tr>\n",
       "    <tr>\n",
       "      <th>29608</th>\n",
       "      <td>1.0</td>\n",
       "      <td>1.000002</td>\n",
       "      <td>3.584542</td>\n",
       "      <td>3.577430</td>\n",
       "      <td>3.577430</td>\n",
       "    </tr>\n",
       "    <tr>\n",
       "      <th>18778</th>\n",
       "      <td>3.0</td>\n",
       "      <td>3.000478</td>\n",
       "      <td>3.584542</td>\n",
       "      <td>3.577430</td>\n",
       "      <td>3.577430</td>\n",
       "    </tr>\n",
       "    <tr>\n",
       "      <th>12852</th>\n",
       "      <td>5.0</td>\n",
       "      <td>4.999998</td>\n",
       "      <td>3.584542</td>\n",
       "      <td>3.577430</td>\n",
       "      <td>3.577430</td>\n",
       "    </tr>\n",
       "    <tr>\n",
       "      <th>28191</th>\n",
       "      <td>4.0</td>\n",
       "      <td>4.000000</td>\n",
       "      <td>3.584542</td>\n",
       "      <td>3.577430</td>\n",
       "      <td>3.577430</td>\n",
       "    </tr>\n",
       "  </tbody>\n",
       "</table>\n",
       "</div>"
      ],
      "text/plain": [
       "       TRUE  xgb_13f_pred  xgb_all_models_pred  svd_pred  svdpp_pred\n",
       "30535   4.0      4.000000             3.584542  3.577430    3.577430\n",
       "23615   3.0      2.999999             3.584542  3.577430    3.577430\n",
       "20935   5.0      4.999998             3.581991  4.082744    4.001245\n",
       "23350   1.0      1.000001             3.584542  3.577430    3.577430\n",
       "13846   4.0      4.000000             3.584542  3.577430    3.577430\n",
       "11239   5.0      4.999994             3.584542  3.577430    3.577430\n",
       "29608   1.0      1.000002             3.584542  3.577430    3.577430\n",
       "18778   3.0      3.000478             3.584542  3.577430    3.577430\n",
       "12852   5.0      4.999998             3.584542  3.577430    3.577430\n",
       "28191   4.0      4.000000             3.584542  3.577430    3.577430"
      ]
     },
     "execution_count": 121,
     "metadata": {},
     "output_type": "execute_result"
    }
   ],
   "source": [
    "pd.DataFrame(list(zip_longest(y_test,\\\n",
    "                              models_evaluation_test['xgb_13f']['predictions'],\\\n",
    "                              models_evaluation_test['xgb_all_models']['predictions'],\\\n",
    "                              models_evaluation_test['svd']['predictions'],\\\n",
    "                              models_evaluation_test['svdpp']['predictions'])),\\\n",
    "             columns=['TRUE', 'xgb_13f_pred', 'xgb_all_models_pred', 'svd_pred', 'svdpp_pred']).sample(10)"
   ]
  },
  {
   "cell_type": "code",
   "execution_count": 111,
   "metadata": {},
   "outputs": [
    {
     "data": {
      "image/png": "[encoded data removed]",
      "text/plain": [
       "<Figure size 1080x360 with 2 Axes>"
      ]
     },
     "metadata": {
      "needs_background": "light"
     },
     "output_type": "display_data"
    }
   ],
   "source": [
    "fig, (ax1, ax2) = plt.subplots(1, 2, figsize=(15, 5))\n",
    "fig.suptitle('DISTRIBUTIONS of PRED RATINGS of XGB_13f and TRUE RATINGS')\n",
    "sns.distplot(models_evaluation_test['xgb_13f']['predictions'], bins=5, ax=ax1, color='g')\n",
    "ax1.set_title('PREDICTED RATING')\n",
    "ax1.set_xlabel('rating')\n",
    "sns.distplot(y_test.values, bins=5, ax=ax2, color='r')\n",
    "ax2.set_title('TRUE RATING')\n",
    "ax2.set_xlabel('rating')\n",
    "plt.show()"
   ]
  },
  {
   "cell_type": "markdown",
   "metadata": {},
   "source": [
    "> * Both the distributions look exactly similar, the first model(xgb_13f) we built has performed very well."
   ]
  },
  {
   "cell_type": "markdown",
   "metadata": {},
   "source": [
    "> "
   ]
  },
  {
   "cell_type": "markdown",
   "metadata": {},
   "source": [
    "# 5. Conclusion"
   ]
  },
  {
   "cell_type": "markdown",
   "metadata": {},
   "source": [
    "* We built 11 models on the sampled train data.\n",
    "\n",
    "* The 13 handcrafted features combined with XGBoost resulted in a terrific model with RMSE=0.0465.\n",
    "\n",
    "* Similar_User1 and Similar_Movie1 seem to have great impact on the model's outcome.\n",
    "\n",
    "* All the models except for XGBoost had higher RMSE values. They failed to perform.<br>\n",
    "Most of the predicted ratings by these models is just the Global Average.\n"
   ]
  },
  {
   "cell_type": "code",
   "execution_count": null,
   "metadata": {},
   "outputs": [],
   "source": []
  }
 ],
 "metadata": {
  "kernelspec": {
   "display_name": "Python 3",
   "language": "python",
   "name": "python3"
  },
  "language_info": {
   "codemirror_mode": {
    "name": "ipython",
    "version": 3
   },
   "file_extension": ".py",
   "mimetype": "text/x-python",
   "name": "python",
   "nbconvert_exporter": "python",
   "pygments_lexer": "ipython3",
   "version": "3.6.6"
  }
 },
 "nbformat": 4,
 "nbformat_minor": 2
}
